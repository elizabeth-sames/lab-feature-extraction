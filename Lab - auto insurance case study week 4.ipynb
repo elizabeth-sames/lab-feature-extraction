{
 "cells": [
  {
   "cell_type": "markdown",
   "id": "d9c2742d",
   "metadata": {},
   "source": [
    "## Part 1 Cleaning numerical data"
   ]
  },
  {
   "cell_type": "markdown",
   "id": "901efe0b",
   "metadata": {},
   "source": [
    "1. Import the necessary libraries."
   ]
  },
  {
   "cell_type": "code",
   "execution_count": 337,
   "id": "a451071a",
   "metadata": {},
   "outputs": [],
   "source": [
    "import pandas as pd\n",
    "import seaborn as sns\n",
    "import matplotlib.pyplot as plt\n",
    "import numpy as np\n",
    "import re"
   ]
  },
  {
   "cell_type": "markdown",
   "id": "ba1ddbe5",
   "metadata": {},
   "source": [
    "2. Load the we_fn_use_c_marketing_customer_value_analysis.csv into the variable customer_df."
   ]
  },
  {
   "cell_type": "code",
   "execution_count": 338,
   "id": "e4eb476c",
   "metadata": {},
   "outputs": [],
   "source": [
    "customer_df = pd.read_csv('we_fn_use_c_marketing_customer_value_analysis.csv')"
   ]
  },
  {
   "cell_type": "markdown",
   "id": "9055128c",
   "metadata": {},
   "source": [
    "3. First look at its main features (head, shape, info)."
   ]
  },
  {
   "cell_type": "code",
   "execution_count": 4,
   "id": "95c46169",
   "metadata": {},
   "outputs": [
    {
     "name": "stdout",
     "output_type": "stream",
     "text": [
      "(9134, 24)\n"
     ]
    },
    {
     "data": {
      "text/html": [
       "<div>\n",
       "<style scoped>\n",
       "    .dataframe tbody tr th:only-of-type {\n",
       "        vertical-align: middle;\n",
       "    }\n",
       "\n",
       "    .dataframe tbody tr th {\n",
       "        vertical-align: top;\n",
       "    }\n",
       "\n",
       "    .dataframe thead th {\n",
       "        text-align: right;\n",
       "    }\n",
       "</style>\n",
       "<table border=\"1\" class=\"dataframe\">\n",
       "  <thead>\n",
       "    <tr style=\"text-align: right;\">\n",
       "      <th></th>\n",
       "      <th>Customer</th>\n",
       "      <th>State</th>\n",
       "      <th>Customer Lifetime Value</th>\n",
       "      <th>Response</th>\n",
       "      <th>Coverage</th>\n",
       "      <th>Education</th>\n",
       "      <th>Effective To Date</th>\n",
       "      <th>EmploymentStatus</th>\n",
       "      <th>Gender</th>\n",
       "      <th>Income</th>\n",
       "      <th>...</th>\n",
       "      <th>Months Since Policy Inception</th>\n",
       "      <th>Number of Open Complaints</th>\n",
       "      <th>Number of Policies</th>\n",
       "      <th>Policy Type</th>\n",
       "      <th>Policy</th>\n",
       "      <th>Renew Offer Type</th>\n",
       "      <th>Sales Channel</th>\n",
       "      <th>Total Claim Amount</th>\n",
       "      <th>Vehicle Class</th>\n",
       "      <th>Vehicle Size</th>\n",
       "    </tr>\n",
       "  </thead>\n",
       "  <tbody>\n",
       "    <tr>\n",
       "      <th>0</th>\n",
       "      <td>BU79786</td>\n",
       "      <td>Washington</td>\n",
       "      <td>2763.519279</td>\n",
       "      <td>No</td>\n",
       "      <td>Basic</td>\n",
       "      <td>Bachelor</td>\n",
       "      <td>2/24/11</td>\n",
       "      <td>Employed</td>\n",
       "      <td>F</td>\n",
       "      <td>56274</td>\n",
       "      <td>...</td>\n",
       "      <td>5</td>\n",
       "      <td>0</td>\n",
       "      <td>1</td>\n",
       "      <td>Corporate Auto</td>\n",
       "      <td>Corporate L3</td>\n",
       "      <td>Offer1</td>\n",
       "      <td>Agent</td>\n",
       "      <td>384.811147</td>\n",
       "      <td>Two-Door Car</td>\n",
       "      <td>Medsize</td>\n",
       "    </tr>\n",
       "    <tr>\n",
       "      <th>1</th>\n",
       "      <td>QZ44356</td>\n",
       "      <td>Arizona</td>\n",
       "      <td>6979.535903</td>\n",
       "      <td>No</td>\n",
       "      <td>Extended</td>\n",
       "      <td>Bachelor</td>\n",
       "      <td>1/31/11</td>\n",
       "      <td>Unemployed</td>\n",
       "      <td>F</td>\n",
       "      <td>0</td>\n",
       "      <td>...</td>\n",
       "      <td>42</td>\n",
       "      <td>0</td>\n",
       "      <td>8</td>\n",
       "      <td>Personal Auto</td>\n",
       "      <td>Personal L3</td>\n",
       "      <td>Offer3</td>\n",
       "      <td>Agent</td>\n",
       "      <td>1131.464935</td>\n",
       "      <td>Four-Door Car</td>\n",
       "      <td>Medsize</td>\n",
       "    </tr>\n",
       "    <tr>\n",
       "      <th>2</th>\n",
       "      <td>AI49188</td>\n",
       "      <td>Nevada</td>\n",
       "      <td>12887.431650</td>\n",
       "      <td>No</td>\n",
       "      <td>Premium</td>\n",
       "      <td>Bachelor</td>\n",
       "      <td>2/19/11</td>\n",
       "      <td>Employed</td>\n",
       "      <td>F</td>\n",
       "      <td>48767</td>\n",
       "      <td>...</td>\n",
       "      <td>38</td>\n",
       "      <td>0</td>\n",
       "      <td>2</td>\n",
       "      <td>Personal Auto</td>\n",
       "      <td>Personal L3</td>\n",
       "      <td>Offer1</td>\n",
       "      <td>Agent</td>\n",
       "      <td>566.472247</td>\n",
       "      <td>Two-Door Car</td>\n",
       "      <td>Medsize</td>\n",
       "    </tr>\n",
       "    <tr>\n",
       "      <th>3</th>\n",
       "      <td>WW63253</td>\n",
       "      <td>California</td>\n",
       "      <td>7645.861827</td>\n",
       "      <td>No</td>\n",
       "      <td>Basic</td>\n",
       "      <td>Bachelor</td>\n",
       "      <td>1/20/11</td>\n",
       "      <td>Unemployed</td>\n",
       "      <td>M</td>\n",
       "      <td>0</td>\n",
       "      <td>...</td>\n",
       "      <td>65</td>\n",
       "      <td>0</td>\n",
       "      <td>7</td>\n",
       "      <td>Corporate Auto</td>\n",
       "      <td>Corporate L2</td>\n",
       "      <td>Offer1</td>\n",
       "      <td>Call Center</td>\n",
       "      <td>529.881344</td>\n",
       "      <td>SUV</td>\n",
       "      <td>Medsize</td>\n",
       "    </tr>\n",
       "    <tr>\n",
       "      <th>4</th>\n",
       "      <td>HB64268</td>\n",
       "      <td>Washington</td>\n",
       "      <td>2813.692575</td>\n",
       "      <td>No</td>\n",
       "      <td>Basic</td>\n",
       "      <td>Bachelor</td>\n",
       "      <td>2/3/11</td>\n",
       "      <td>Employed</td>\n",
       "      <td>M</td>\n",
       "      <td>43836</td>\n",
       "      <td>...</td>\n",
       "      <td>44</td>\n",
       "      <td>0</td>\n",
       "      <td>1</td>\n",
       "      <td>Personal Auto</td>\n",
       "      <td>Personal L1</td>\n",
       "      <td>Offer1</td>\n",
       "      <td>Agent</td>\n",
       "      <td>138.130879</td>\n",
       "      <td>Four-Door Car</td>\n",
       "      <td>Medsize</td>\n",
       "    </tr>\n",
       "  </tbody>\n",
       "</table>\n",
       "<p>5 rows × 24 columns</p>\n",
       "</div>"
      ],
      "text/plain": [
       "  Customer       State  Customer Lifetime Value Response  Coverage Education  \\\n",
       "0  BU79786  Washington              2763.519279       No     Basic  Bachelor   \n",
       "1  QZ44356     Arizona              6979.535903       No  Extended  Bachelor   \n",
       "2  AI49188      Nevada             12887.431650       No   Premium  Bachelor   \n",
       "3  WW63253  California              7645.861827       No     Basic  Bachelor   \n",
       "4  HB64268  Washington              2813.692575       No     Basic  Bachelor   \n",
       "\n",
       "  Effective To Date EmploymentStatus Gender  Income  ...  \\\n",
       "0           2/24/11         Employed      F   56274  ...   \n",
       "1           1/31/11       Unemployed      F       0  ...   \n",
       "2           2/19/11         Employed      F   48767  ...   \n",
       "3           1/20/11       Unemployed      M       0  ...   \n",
       "4            2/3/11         Employed      M   43836  ...   \n",
       "\n",
       "  Months Since Policy Inception Number of Open Complaints  Number of Policies  \\\n",
       "0                             5                         0                   1   \n",
       "1                            42                         0                   8   \n",
       "2                            38                         0                   2   \n",
       "3                            65                         0                   7   \n",
       "4                            44                         0                   1   \n",
       "\n",
       "      Policy Type        Policy  Renew Offer Type  Sales Channel  \\\n",
       "0  Corporate Auto  Corporate L3            Offer1          Agent   \n",
       "1   Personal Auto   Personal L3            Offer3          Agent   \n",
       "2   Personal Auto   Personal L3            Offer1          Agent   \n",
       "3  Corporate Auto  Corporate L2            Offer1    Call Center   \n",
       "4   Personal Auto   Personal L1            Offer1          Agent   \n",
       "\n",
       "  Total Claim Amount  Vehicle Class Vehicle Size  \n",
       "0         384.811147   Two-Door Car      Medsize  \n",
       "1        1131.464935  Four-Door Car      Medsize  \n",
       "2         566.472247   Two-Door Car      Medsize  \n",
       "3         529.881344            SUV      Medsize  \n",
       "4         138.130879  Four-Door Car      Medsize  \n",
       "\n",
       "[5 rows x 24 columns]"
      ]
     },
     "execution_count": 4,
     "metadata": {},
     "output_type": "execute_result"
    }
   ],
   "source": [
    "print(customer_df.shape)\n",
    "customer_df.head()"
   ]
  },
  {
   "cell_type": "code",
   "execution_count": 5,
   "id": "23bfd621",
   "metadata": {},
   "outputs": [
    {
     "name": "stdout",
     "output_type": "stream",
     "text": [
      "<class 'pandas.core.frame.DataFrame'>\n",
      "RangeIndex: 9134 entries, 0 to 9133\n",
      "Data columns (total 24 columns):\n",
      " #   Column                         Non-Null Count  Dtype  \n",
      "---  ------                         --------------  -----  \n",
      " 0   Customer                       9134 non-null   object \n",
      " 1   State                          9134 non-null   object \n",
      " 2   Customer Lifetime Value        9134 non-null   float64\n",
      " 3   Response                       9134 non-null   object \n",
      " 4   Coverage                       9134 non-null   object \n",
      " 5   Education                      9134 non-null   object \n",
      " 6   Effective To Date              9134 non-null   object \n",
      " 7   EmploymentStatus               9134 non-null   object \n",
      " 8   Gender                         9134 non-null   object \n",
      " 9   Income                         9134 non-null   int64  \n",
      " 10  Location Code                  9134 non-null   object \n",
      " 11  Marital Status                 9134 non-null   object \n",
      " 12  Monthly Premium Auto           9134 non-null   int64  \n",
      " 13  Months Since Last Claim        9134 non-null   int64  \n",
      " 14  Months Since Policy Inception  9134 non-null   int64  \n",
      " 15  Number of Open Complaints      9134 non-null   int64  \n",
      " 16  Number of Policies             9134 non-null   int64  \n",
      " 17  Policy Type                    9134 non-null   object \n",
      " 18  Policy                         9134 non-null   object \n",
      " 19  Renew Offer Type               9134 non-null   object \n",
      " 20  Sales Channel                  9134 non-null   object \n",
      " 21  Total Claim Amount             9134 non-null   float64\n",
      " 22  Vehicle Class                  9134 non-null   object \n",
      " 23  Vehicle Size                   9134 non-null   object \n",
      "dtypes: float64(2), int64(6), object(16)\n",
      "memory usage: 1.7+ MB\n"
     ]
    }
   ],
   "source": [
    "customer_df.info()"
   ]
  },
  {
   "cell_type": "markdown",
   "id": "3c0f0fc3",
   "metadata": {},
   "source": [
    "4. Rename the columns so they follow the PE8 (snake case). (lowercase with _ for spaces)"
   ]
  },
  {
   "cell_type": "code",
   "execution_count": 339,
   "id": "b3bd5831",
   "metadata": {},
   "outputs": [],
   "source": [
    "new_names =[]\n",
    "for col in list(customer_df.columns):\n",
    "    col = re.sub(' ', '_', col.lower())\n",
    "    new_names.append(col)\n",
    "    \n",
    "customer_df.columns = new_names"
   ]
  },
  {
   "cell_type": "code",
   "execution_count": 340,
   "id": "24668b3c",
   "metadata": {},
   "outputs": [
    {
     "data": {
      "text/plain": [
       "Index(['customer', 'state', 'customer_lifetime_value', 'response', 'coverage',\n",
       "       'education', 'effective_to_date', 'employmentstatus', 'gender',\n",
       "       'income', 'location_code', 'marital_status', 'monthly_premium_auto',\n",
       "       'months_since_last_claim', 'months_since_policy_inception',\n",
       "       'number_of_open_complaints', 'number_of_policies', 'policy_type',\n",
       "       'policy', 'renew_offer_type', 'sales_channel', 'total_claim_amount',\n",
       "       'vehicle_class', 'vehicle_size'],\n",
       "      dtype='object')"
      ]
     },
     "execution_count": 340,
     "metadata": {},
     "output_type": "execute_result"
    }
   ],
   "source": [
    "customer_df.columns"
   ]
  },
  {
   "cell_type": "markdown",
   "id": "d13a6873",
   "metadata": {},
   "source": [
    "5. Change effective to date column to datetime format."
   ]
  },
  {
   "cell_type": "code",
   "execution_count": 47,
   "id": "1ec37aa7",
   "metadata": {},
   "outputs": [
    {
     "data": {
      "text/plain": [
       "0       2/24/11\n",
       "1       1/31/11\n",
       "2       2/19/11\n",
       "3       1/20/11\n",
       "4        2/3/11\n",
       "         ...   \n",
       "9129    2/10/11\n",
       "9130    2/12/11\n",
       "9131     2/6/11\n",
       "9132     2/3/11\n",
       "9133    2/14/11\n",
       "Name: effective_to_date, Length: 9134, dtype: object"
      ]
     },
     "execution_count": 47,
     "metadata": {},
     "output_type": "execute_result"
    }
   ],
   "source": [
    "customer_df.effective_to_date"
   ]
  },
  {
   "cell_type": "code",
   "execution_count": 341,
   "id": "2fb33f06",
   "metadata": {},
   "outputs": [
    {
     "data": {
      "text/plain": [
       "0      2011-02-24\n",
       "1      2011-01-31\n",
       "2      2011-02-19\n",
       "3      2011-01-20\n",
       "4      2011-02-03\n",
       "          ...    \n",
       "9129   2011-02-10\n",
       "9130   2011-02-12\n",
       "9131   2011-02-06\n",
       "9132   2011-02-03\n",
       "9133   2011-02-14\n",
       "Name: effective_to_date, Length: 9134, dtype: datetime64[ns]"
      ]
     },
     "execution_count": 341,
     "metadata": {},
     "output_type": "execute_result"
    }
   ],
   "source": [
    "customer_df.effective_to_date  = pd.to_datetime(customer_df.effective_to_date)\n",
    "customer_df.effective_to_date"
   ]
  },
  {
   "cell_type": "code",
   "execution_count": 284,
   "id": "335d4ccd",
   "metadata": {},
   "outputs": [
    {
     "data": {
      "text/plain": [
       "59"
      ]
     },
     "execution_count": 284,
     "metadata": {},
     "output_type": "execute_result"
    }
   ],
   "source": [
    "customer_df.effective_to_date.nunique()"
   ]
  },
  {
   "cell_type": "markdown",
   "id": "b5c9dd15",
   "metadata": {},
   "source": [
    "6. Check NaN values per column."
   ]
  },
  {
   "cell_type": "code",
   "execution_count": 342,
   "id": "605240e2",
   "metadata": {},
   "outputs": [
    {
     "data": {
      "text/plain": [
       "customer                         0\n",
       "state                            0\n",
       "customer_lifetime_value          0\n",
       "response                         0\n",
       "coverage                         0\n",
       "education                        0\n",
       "effective_to_date                0\n",
       "employmentstatus                 0\n",
       "gender                           0\n",
       "income                           0\n",
       "location_code                    0\n",
       "marital_status                   0\n",
       "monthly_premium_auto             0\n",
       "months_since_last_claim          0\n",
       "months_since_policy_inception    0\n",
       "number_of_open_complaints        0\n",
       "number_of_policies               0\n",
       "policy_type                      0\n",
       "policy                           0\n",
       "renew_offer_type                 0\n",
       "sales_channel                    0\n",
       "total_claim_amount               0\n",
       "vehicle_class                    0\n",
       "vehicle_size                     0\n",
       "dtype: int64"
      ]
     },
     "execution_count": 342,
     "metadata": {},
     "output_type": "execute_result"
    }
   ],
   "source": [
    "customer_df.isnull().sum()  #no NaN values"
   ]
  },
  {
   "cell_type": "markdown",
   "id": "014251f3",
   "metadata": {},
   "source": [
    "7. Define a function that differentiates between continuous and discrete variables. Hint: A number of unique values might be useful. Store continuous data into a continuous variable and do the same for discrete and categorical."
   ]
  },
  {
   "cell_type": "code",
   "execution_count": 108,
   "id": "c9e90892",
   "metadata": {},
   "outputs": [
    {
     "data": {
      "text/plain": [
       "customer                                 object\n",
       "state                                    object\n",
       "customer_lifetime_value                 float64\n",
       "response                                 object\n",
       "coverage                                 object\n",
       "education                                object\n",
       "effective_to_date                datetime64[ns]\n",
       "employmentstatus                         object\n",
       "gender                                   object\n",
       "income                                    int64\n",
       "location_code                            object\n",
       "marital_status                           object\n",
       "monthly_premium_auto                      int64\n",
       "months_since_last_claim                   int64\n",
       "months_since_policy_inception             int64\n",
       "number_of_open_complaints                 int64\n",
       "number_of_policies                        int64\n",
       "policy_type                              object\n",
       "policy                                   object\n",
       "renew_offer_type                         object\n",
       "sales_channel                            object\n",
       "total_claim_amount                      float64\n",
       "vehicle_class                            object\n",
       "vehicle_size                             object\n",
       "dtype: object"
      ]
     },
     "execution_count": 108,
     "metadata": {},
     "output_type": "execute_result"
    }
   ],
   "source": [
    "customer_df.dtypes"
   ]
  },
  {
   "cell_type": "code",
   "execution_count": 503,
   "id": "06f58d43",
   "metadata": {},
   "outputs": [],
   "source": [
    "def diff(x):\n",
    "    if x.nunique()>=10:\n",
    "        return 'continuous'\n",
    "    elif x.nunique()<10:\n",
    "        return 'discrete'\n",
    "\n"
   ]
  },
  {
   "cell_type": "code",
   "execution_count": 505,
   "id": "a20a23bc",
   "metadata": {},
   "outputs": [
    {
     "data": {
      "text/plain": [
       "['state',\n",
       " 'response',\n",
       " 'coverage',\n",
       " 'education',\n",
       " 'employmentstatus',\n",
       " 'gender',\n",
       " 'location_code',\n",
       " 'marital_status',\n",
       " 'number_of_open_complaints',\n",
       " 'number_of_policies',\n",
       " 'policy_type',\n",
       " 'policy',\n",
       " 'renew_offer_type',\n",
       " 'sales_channel',\n",
       " 'vehicle_class',\n",
       " 'vehicle_size']"
      ]
     },
     "execution_count": 505,
     "metadata": {},
     "output_type": "execute_result"
    }
   ],
   "source": [
    "discrete = [x for x in list(customer_df.columns) if customer_df[x].nunique()<10]\n",
    "discrete"
   ]
  },
  {
   "cell_type": "code",
   "execution_count": 506,
   "id": "6cc936f0",
   "metadata": {},
   "outputs": [
    {
     "data": {
      "text/plain": [
       "['customer_lifetime_value',\n",
       " 'income',\n",
       " 'monthly_premium_auto',\n",
       " 'months_since_last_claim',\n",
       " 'months_since_policy_inception',\n",
       " 'total_claim_amount']"
      ]
     },
     "execution_count": 506,
     "metadata": {},
     "output_type": "execute_result"
    }
   ],
   "source": [
    "continuous = [x for x in list(customer_df.columns) if (diff(customer_df[x]) == 'continuous') and customer_df[x].dtype == 'int64' or customer_df[x].dtype == 'float64']\n",
    "continuous"
   ]
  },
  {
   "cell_type": "code",
   "execution_count": 536,
   "id": "1307b787",
   "metadata": {},
   "outputs": [
    {
     "data": {
      "text/plain": [
       "['customer',\n",
       " 'state',\n",
       " 'response',\n",
       " 'coverage',\n",
       " 'education',\n",
       " 'employmentstatus',\n",
       " 'gender',\n",
       " 'location_code',\n",
       " 'marital_status',\n",
       " 'policy_type',\n",
       " 'policy',\n",
       " 'renew_offer_type',\n",
       " 'sales_channel',\n",
       " 'vehicle_class',\n",
       " 'vehicle_size']"
      ]
     },
     "execution_count": 536,
     "metadata": {},
     "output_type": "execute_result"
    }
   ],
   "source": [
    "categorical = [x for x in list(customer_df.columns) if customer_df[x].dtype == 'O']\n",
    "categorical"
   ]
  },
  {
   "cell_type": "markdown",
   "id": "0cf807c8",
   "metadata": {},
   "source": [
    "8 For the categorical data, check if there is some kind of text in a variable so we would need to clean it. Hint: Use the same method you used in step 7. Depending on the implementation, decide what to do with the variables you get."
   ]
  },
  {
   "cell_type": "code",
   "execution_count": 537,
   "id": "ca959897",
   "metadata": {},
   "outputs": [],
   "source": [
    "categorical = customer_df[categorical]"
   ]
  },
  {
   "cell_type": "code",
   "execution_count": 538,
   "id": "00ff23cc",
   "metadata": {},
   "outputs": [
    {
     "data": {
      "text/html": [
       "<div>\n",
       "<style scoped>\n",
       "    .dataframe tbody tr th:only-of-type {\n",
       "        vertical-align: middle;\n",
       "    }\n",
       "\n",
       "    .dataframe tbody tr th {\n",
       "        vertical-align: top;\n",
       "    }\n",
       "\n",
       "    .dataframe thead th {\n",
       "        text-align: right;\n",
       "    }\n",
       "</style>\n",
       "<table border=\"1\" class=\"dataframe\">\n",
       "  <thead>\n",
       "    <tr style=\"text-align: right;\">\n",
       "      <th></th>\n",
       "      <th>customer</th>\n",
       "      <th>state</th>\n",
       "      <th>response</th>\n",
       "      <th>coverage</th>\n",
       "      <th>education</th>\n",
       "      <th>employmentstatus</th>\n",
       "      <th>gender</th>\n",
       "      <th>location_code</th>\n",
       "      <th>marital_status</th>\n",
       "      <th>policy_type</th>\n",
       "      <th>policy</th>\n",
       "      <th>renew_offer_type</th>\n",
       "      <th>sales_channel</th>\n",
       "      <th>vehicle_class</th>\n",
       "      <th>vehicle_size</th>\n",
       "    </tr>\n",
       "  </thead>\n",
       "  <tbody>\n",
       "    <tr>\n",
       "      <th>0</th>\n",
       "      <td>BU79786</td>\n",
       "      <td>Washington</td>\n",
       "      <td>No</td>\n",
       "      <td>Basic</td>\n",
       "      <td>Bachelor</td>\n",
       "      <td>Employed</td>\n",
       "      <td>F</td>\n",
       "      <td>Suburban</td>\n",
       "      <td>Married</td>\n",
       "      <td>Corporate Auto</td>\n",
       "      <td>Corporate L3</td>\n",
       "      <td>Offer1</td>\n",
       "      <td>Agent</td>\n",
       "      <td>Two-Door Car</td>\n",
       "      <td>Medsize</td>\n",
       "    </tr>\n",
       "    <tr>\n",
       "      <th>1</th>\n",
       "      <td>QZ44356</td>\n",
       "      <td>Arizona</td>\n",
       "      <td>No</td>\n",
       "      <td>Extended</td>\n",
       "      <td>Bachelor</td>\n",
       "      <td>Unemployed</td>\n",
       "      <td>F</td>\n",
       "      <td>Suburban</td>\n",
       "      <td>Single</td>\n",
       "      <td>Personal Auto</td>\n",
       "      <td>Personal L3</td>\n",
       "      <td>Offer3</td>\n",
       "      <td>Agent</td>\n",
       "      <td>Four-Door Car</td>\n",
       "      <td>Medsize</td>\n",
       "    </tr>\n",
       "    <tr>\n",
       "      <th>2</th>\n",
       "      <td>AI49188</td>\n",
       "      <td>Nevada</td>\n",
       "      <td>No</td>\n",
       "      <td>Premium</td>\n",
       "      <td>Bachelor</td>\n",
       "      <td>Employed</td>\n",
       "      <td>F</td>\n",
       "      <td>Suburban</td>\n",
       "      <td>Married</td>\n",
       "      <td>Personal Auto</td>\n",
       "      <td>Personal L3</td>\n",
       "      <td>Offer1</td>\n",
       "      <td>Agent</td>\n",
       "      <td>Two-Door Car</td>\n",
       "      <td>Medsize</td>\n",
       "    </tr>\n",
       "    <tr>\n",
       "      <th>3</th>\n",
       "      <td>WW63253</td>\n",
       "      <td>California</td>\n",
       "      <td>No</td>\n",
       "      <td>Basic</td>\n",
       "      <td>Bachelor</td>\n",
       "      <td>Unemployed</td>\n",
       "      <td>M</td>\n",
       "      <td>Suburban</td>\n",
       "      <td>Married</td>\n",
       "      <td>Corporate Auto</td>\n",
       "      <td>Corporate L2</td>\n",
       "      <td>Offer1</td>\n",
       "      <td>Call Center</td>\n",
       "      <td>SUV</td>\n",
       "      <td>Medsize</td>\n",
       "    </tr>\n",
       "    <tr>\n",
       "      <th>4</th>\n",
       "      <td>HB64268</td>\n",
       "      <td>Washington</td>\n",
       "      <td>No</td>\n",
       "      <td>Basic</td>\n",
       "      <td>Bachelor</td>\n",
       "      <td>Employed</td>\n",
       "      <td>M</td>\n",
       "      <td>Rural</td>\n",
       "      <td>Single</td>\n",
       "      <td>Personal Auto</td>\n",
       "      <td>Personal L1</td>\n",
       "      <td>Offer1</td>\n",
       "      <td>Agent</td>\n",
       "      <td>Four-Door Car</td>\n",
       "      <td>Medsize</td>\n",
       "    </tr>\n",
       "  </tbody>\n",
       "</table>\n",
       "</div>"
      ],
      "text/plain": [
       "  customer       state response  coverage education employmentstatus gender  \\\n",
       "0  BU79786  Washington       No     Basic  Bachelor         Employed      F   \n",
       "1  QZ44356     Arizona       No  Extended  Bachelor       Unemployed      F   \n",
       "2  AI49188      Nevada       No   Premium  Bachelor         Employed      F   \n",
       "3  WW63253  California       No     Basic  Bachelor       Unemployed      M   \n",
       "4  HB64268  Washington       No     Basic  Bachelor         Employed      M   \n",
       "\n",
       "  location_code marital_status     policy_type        policy renew_offer_type  \\\n",
       "0      Suburban        Married  Corporate Auto  Corporate L3           Offer1   \n",
       "1      Suburban         Single   Personal Auto   Personal L3           Offer3   \n",
       "2      Suburban        Married   Personal Auto   Personal L3           Offer1   \n",
       "3      Suburban        Married  Corporate Auto  Corporate L2           Offer1   \n",
       "4         Rural         Single   Personal Auto   Personal L1           Offer1   \n",
       "\n",
       "  sales_channel  vehicle_class vehicle_size  \n",
       "0         Agent   Two-Door Car      Medsize  \n",
       "1         Agent  Four-Door Car      Medsize  \n",
       "2         Agent   Two-Door Car      Medsize  \n",
       "3   Call Center            SUV      Medsize  \n",
       "4         Agent  Four-Door Car      Medsize  "
      ]
     },
     "execution_count": 538,
     "metadata": {},
     "output_type": "execute_result"
    }
   ],
   "source": [
    "categorical.head()"
   ]
  },
  {
   "cell_type": "code",
   "execution_count": 163,
   "id": "0ce9f3d5",
   "metadata": {},
   "outputs": [
    {
     "data": {
      "text/plain": [
       "Medsize    6424\n",
       "Small      1764\n",
       "Large       946\n",
       "Name: vehicle_size, dtype: int64"
      ]
     },
     "execution_count": 163,
     "metadata": {},
     "output_type": "execute_result"
    }
   ],
   "source": [
    "categorical.state.value_counts()\n",
    "categorical.response.value_counts()\n",
    "categorical.coverage.value_counts()\n",
    "categorical.education.value_counts()\n",
    "categorical.employmentstatus.value_counts()\n",
    "categorical.gender.value_counts()\n",
    "categorical.location_code.value_counts()\n",
    "categorical.marital_status.value_counts()\n",
    "categorical.policy_type.value_counts()\n",
    "categorical.policy.value_counts()\n",
    "categorical.renew_offer_type.value_counts()\n",
    "categorical.sales_channel.value_counts()\n",
    "categorical.vehicle_class.value_counts()\n",
    "categorical.vehicle_size.value_counts()"
   ]
  },
  {
   "cell_type": "markdown",
   "id": "9b856222",
   "metadata": {},
   "source": [
    "No unusual values in the categorical fields."
   ]
  },
  {
   "cell_type": "markdown",
   "id": "42c57cc3",
   "metadata": {},
   "source": [
    "9. Get categorical features."
   ]
  },
  {
   "cell_type": "code",
   "execution_count": 539,
   "id": "a632be02",
   "metadata": {},
   "outputs": [
    {
     "data": {
      "text/html": [
       "<div>\n",
       "<style scoped>\n",
       "    .dataframe tbody tr th:only-of-type {\n",
       "        vertical-align: middle;\n",
       "    }\n",
       "\n",
       "    .dataframe tbody tr th {\n",
       "        vertical-align: top;\n",
       "    }\n",
       "\n",
       "    .dataframe thead th {\n",
       "        text-align: right;\n",
       "    }\n",
       "</style>\n",
       "<table border=\"1\" class=\"dataframe\">\n",
       "  <thead>\n",
       "    <tr style=\"text-align: right;\">\n",
       "      <th></th>\n",
       "      <th>customer</th>\n",
       "      <th>state</th>\n",
       "      <th>response</th>\n",
       "      <th>coverage</th>\n",
       "      <th>education</th>\n",
       "      <th>employmentstatus</th>\n",
       "      <th>gender</th>\n",
       "      <th>location_code</th>\n",
       "      <th>marital_status</th>\n",
       "      <th>policy_type</th>\n",
       "      <th>policy</th>\n",
       "      <th>renew_offer_type</th>\n",
       "      <th>sales_channel</th>\n",
       "      <th>vehicle_class</th>\n",
       "      <th>vehicle_size</th>\n",
       "    </tr>\n",
       "  </thead>\n",
       "  <tbody>\n",
       "    <tr>\n",
       "      <th>0</th>\n",
       "      <td>BU79786</td>\n",
       "      <td>Washington</td>\n",
       "      <td>No</td>\n",
       "      <td>Basic</td>\n",
       "      <td>Bachelor</td>\n",
       "      <td>Employed</td>\n",
       "      <td>F</td>\n",
       "      <td>Suburban</td>\n",
       "      <td>Married</td>\n",
       "      <td>Corporate Auto</td>\n",
       "      <td>Corporate L3</td>\n",
       "      <td>Offer1</td>\n",
       "      <td>Agent</td>\n",
       "      <td>Two-Door Car</td>\n",
       "      <td>Medsize</td>\n",
       "    </tr>\n",
       "    <tr>\n",
       "      <th>1</th>\n",
       "      <td>QZ44356</td>\n",
       "      <td>Arizona</td>\n",
       "      <td>No</td>\n",
       "      <td>Extended</td>\n",
       "      <td>Bachelor</td>\n",
       "      <td>Unemployed</td>\n",
       "      <td>F</td>\n",
       "      <td>Suburban</td>\n",
       "      <td>Single</td>\n",
       "      <td>Personal Auto</td>\n",
       "      <td>Personal L3</td>\n",
       "      <td>Offer3</td>\n",
       "      <td>Agent</td>\n",
       "      <td>Four-Door Car</td>\n",
       "      <td>Medsize</td>\n",
       "    </tr>\n",
       "    <tr>\n",
       "      <th>2</th>\n",
       "      <td>AI49188</td>\n",
       "      <td>Nevada</td>\n",
       "      <td>No</td>\n",
       "      <td>Premium</td>\n",
       "      <td>Bachelor</td>\n",
       "      <td>Employed</td>\n",
       "      <td>F</td>\n",
       "      <td>Suburban</td>\n",
       "      <td>Married</td>\n",
       "      <td>Personal Auto</td>\n",
       "      <td>Personal L3</td>\n",
       "      <td>Offer1</td>\n",
       "      <td>Agent</td>\n",
       "      <td>Two-Door Car</td>\n",
       "      <td>Medsize</td>\n",
       "    </tr>\n",
       "    <tr>\n",
       "      <th>3</th>\n",
       "      <td>WW63253</td>\n",
       "      <td>California</td>\n",
       "      <td>No</td>\n",
       "      <td>Basic</td>\n",
       "      <td>Bachelor</td>\n",
       "      <td>Unemployed</td>\n",
       "      <td>M</td>\n",
       "      <td>Suburban</td>\n",
       "      <td>Married</td>\n",
       "      <td>Corporate Auto</td>\n",
       "      <td>Corporate L2</td>\n",
       "      <td>Offer1</td>\n",
       "      <td>Call Center</td>\n",
       "      <td>SUV</td>\n",
       "      <td>Medsize</td>\n",
       "    </tr>\n",
       "    <tr>\n",
       "      <th>4</th>\n",
       "      <td>HB64268</td>\n",
       "      <td>Washington</td>\n",
       "      <td>No</td>\n",
       "      <td>Basic</td>\n",
       "      <td>Bachelor</td>\n",
       "      <td>Employed</td>\n",
       "      <td>M</td>\n",
       "      <td>Rural</td>\n",
       "      <td>Single</td>\n",
       "      <td>Personal Auto</td>\n",
       "      <td>Personal L1</td>\n",
       "      <td>Offer1</td>\n",
       "      <td>Agent</td>\n",
       "      <td>Four-Door Car</td>\n",
       "      <td>Medsize</td>\n",
       "    </tr>\n",
       "    <tr>\n",
       "      <th>...</th>\n",
       "      <td>...</td>\n",
       "      <td>...</td>\n",
       "      <td>...</td>\n",
       "      <td>...</td>\n",
       "      <td>...</td>\n",
       "      <td>...</td>\n",
       "      <td>...</td>\n",
       "      <td>...</td>\n",
       "      <td>...</td>\n",
       "      <td>...</td>\n",
       "      <td>...</td>\n",
       "      <td>...</td>\n",
       "      <td>...</td>\n",
       "      <td>...</td>\n",
       "      <td>...</td>\n",
       "    </tr>\n",
       "    <tr>\n",
       "      <th>9129</th>\n",
       "      <td>LA72316</td>\n",
       "      <td>California</td>\n",
       "      <td>No</td>\n",
       "      <td>Basic</td>\n",
       "      <td>Bachelor</td>\n",
       "      <td>Employed</td>\n",
       "      <td>M</td>\n",
       "      <td>Urban</td>\n",
       "      <td>Married</td>\n",
       "      <td>Personal Auto</td>\n",
       "      <td>Personal L1</td>\n",
       "      <td>Offer2</td>\n",
       "      <td>Web</td>\n",
       "      <td>Four-Door Car</td>\n",
       "      <td>Medsize</td>\n",
       "    </tr>\n",
       "    <tr>\n",
       "      <th>9130</th>\n",
       "      <td>PK87824</td>\n",
       "      <td>California</td>\n",
       "      <td>Yes</td>\n",
       "      <td>Extended</td>\n",
       "      <td>College</td>\n",
       "      <td>Employed</td>\n",
       "      <td>F</td>\n",
       "      <td>Suburban</td>\n",
       "      <td>Divorced</td>\n",
       "      <td>Corporate Auto</td>\n",
       "      <td>Corporate L3</td>\n",
       "      <td>Offer1</td>\n",
       "      <td>Branch</td>\n",
       "      <td>Four-Door Car</td>\n",
       "      <td>Medsize</td>\n",
       "    </tr>\n",
       "    <tr>\n",
       "      <th>9131</th>\n",
       "      <td>TD14365</td>\n",
       "      <td>California</td>\n",
       "      <td>No</td>\n",
       "      <td>Extended</td>\n",
       "      <td>Bachelor</td>\n",
       "      <td>Unemployed</td>\n",
       "      <td>M</td>\n",
       "      <td>Suburban</td>\n",
       "      <td>Single</td>\n",
       "      <td>Corporate Auto</td>\n",
       "      <td>Corporate L2</td>\n",
       "      <td>Offer1</td>\n",
       "      <td>Branch</td>\n",
       "      <td>Four-Door Car</td>\n",
       "      <td>Medsize</td>\n",
       "    </tr>\n",
       "    <tr>\n",
       "      <th>9132</th>\n",
       "      <td>UP19263</td>\n",
       "      <td>California</td>\n",
       "      <td>No</td>\n",
       "      <td>Extended</td>\n",
       "      <td>College</td>\n",
       "      <td>Employed</td>\n",
       "      <td>M</td>\n",
       "      <td>Suburban</td>\n",
       "      <td>Married</td>\n",
       "      <td>Personal Auto</td>\n",
       "      <td>Personal L2</td>\n",
       "      <td>Offer3</td>\n",
       "      <td>Branch</td>\n",
       "      <td>Four-Door Car</td>\n",
       "      <td>Large</td>\n",
       "    </tr>\n",
       "    <tr>\n",
       "      <th>9133</th>\n",
       "      <td>Y167826</td>\n",
       "      <td>California</td>\n",
       "      <td>No</td>\n",
       "      <td>Extended</td>\n",
       "      <td>College</td>\n",
       "      <td>Unemployed</td>\n",
       "      <td>M</td>\n",
       "      <td>Suburban</td>\n",
       "      <td>Single</td>\n",
       "      <td>Corporate Auto</td>\n",
       "      <td>Corporate L3</td>\n",
       "      <td>Offer4</td>\n",
       "      <td>Call Center</td>\n",
       "      <td>Two-Door Car</td>\n",
       "      <td>Medsize</td>\n",
       "    </tr>\n",
       "  </tbody>\n",
       "</table>\n",
       "<p>9134 rows × 15 columns</p>\n",
       "</div>"
      ],
      "text/plain": [
       "     customer       state response  coverage education employmentstatus  \\\n",
       "0     BU79786  Washington       No     Basic  Bachelor         Employed   \n",
       "1     QZ44356     Arizona       No  Extended  Bachelor       Unemployed   \n",
       "2     AI49188      Nevada       No   Premium  Bachelor         Employed   \n",
       "3     WW63253  California       No     Basic  Bachelor       Unemployed   \n",
       "4     HB64268  Washington       No     Basic  Bachelor         Employed   \n",
       "...       ...         ...      ...       ...       ...              ...   \n",
       "9129  LA72316  California       No     Basic  Bachelor         Employed   \n",
       "9130  PK87824  California      Yes  Extended   College         Employed   \n",
       "9131  TD14365  California       No  Extended  Bachelor       Unemployed   \n",
       "9132  UP19263  California       No  Extended   College         Employed   \n",
       "9133  Y167826  California       No  Extended   College       Unemployed   \n",
       "\n",
       "     gender location_code marital_status     policy_type        policy  \\\n",
       "0         F      Suburban        Married  Corporate Auto  Corporate L3   \n",
       "1         F      Suburban         Single   Personal Auto   Personal L3   \n",
       "2         F      Suburban        Married   Personal Auto   Personal L3   \n",
       "3         M      Suburban        Married  Corporate Auto  Corporate L2   \n",
       "4         M         Rural         Single   Personal Auto   Personal L1   \n",
       "...     ...           ...            ...             ...           ...   \n",
       "9129      M         Urban        Married   Personal Auto   Personal L1   \n",
       "9130      F      Suburban       Divorced  Corporate Auto  Corporate L3   \n",
       "9131      M      Suburban         Single  Corporate Auto  Corporate L2   \n",
       "9132      M      Suburban        Married   Personal Auto   Personal L2   \n",
       "9133      M      Suburban         Single  Corporate Auto  Corporate L3   \n",
       "\n",
       "     renew_offer_type sales_channel  vehicle_class vehicle_size  \n",
       "0              Offer1         Agent   Two-Door Car      Medsize  \n",
       "1              Offer3         Agent  Four-Door Car      Medsize  \n",
       "2              Offer1         Agent   Two-Door Car      Medsize  \n",
       "3              Offer1   Call Center            SUV      Medsize  \n",
       "4              Offer1         Agent  Four-Door Car      Medsize  \n",
       "...               ...           ...            ...          ...  \n",
       "9129           Offer2           Web  Four-Door Car      Medsize  \n",
       "9130           Offer1        Branch  Four-Door Car      Medsize  \n",
       "9131           Offer1        Branch  Four-Door Car      Medsize  \n",
       "9132           Offer3        Branch  Four-Door Car        Large  \n",
       "9133           Offer4   Call Center   Two-Door Car      Medsize  \n",
       "\n",
       "[9134 rows x 15 columns]"
      ]
     },
     "execution_count": 539,
     "metadata": {},
     "output_type": "execute_result"
    }
   ],
   "source": [
    "categorical"
   ]
  },
  {
   "cell_type": "markdown",
   "id": "1f37d8a7",
   "metadata": {},
   "source": [
    "10. What should we do with the customer_id column?"
   ]
  },
  {
   "cell_type": "code",
   "execution_count": 331,
   "id": "58c0535e",
   "metadata": {},
   "outputs": [
    {
     "ename": "SyntaxError",
     "evalue": "invalid syntax (1989020797.py, line 1)",
     "output_type": "error",
     "traceback": [
      "\u001b[0;36m  File \u001b[0;32m\"/var/folders/tg/qj8xd12d4kldbd9gnfgt88th0000gn/T/ipykernel_30471/1989020797.py\"\u001b[0;36m, line \u001b[0;32m1\u001b[0m\n\u001b[0;31m    customer_df['customer_alpha'] = customer_df['customer'].apply(lambda re.findall('[\\D*]', x) for x)\u001b[0m\n\u001b[0m                                                                           ^\u001b[0m\n\u001b[0;31mSyntaxError\u001b[0m\u001b[0;31m:\u001b[0m invalid syntax\n"
     ]
    }
   ],
   "source": [
    "customer_df['customer_alpha'] = customer_df['customer'].apply(lambda re.findall('[\\D*]', x) for x)"
   ]
  },
  {
   "cell_type": "markdown",
   "id": "8c067bf0",
   "metadata": {},
   "source": [
    "The customer column should be dropped as it contains all unique values and there is no documentaion about any info it might hold. "
   ]
  },
  {
   "cell_type": "code",
   "execution_count": 540,
   "id": "ae4c90eb",
   "metadata": {},
   "outputs": [
    {
     "name": "stderr",
     "output_type": "stream",
     "text": [
      "/usr/local/lib/python3.9/site-packages/pandas/core/frame.py:4901: SettingWithCopyWarning: \n",
      "A value is trying to be set on a copy of a slice from a DataFrame\n",
      "\n",
      "See the caveats in the documentation: https://pandas.pydata.org/pandas-docs/stable/user_guide/indexing.html#returning-a-view-versus-a-copy\n",
      "  return super().drop(\n"
     ]
    }
   ],
   "source": [
    "categorical.drop(['customer'], axis=1, inplace=True)"
   ]
  },
  {
   "cell_type": "markdown",
   "id": "76b440c2",
   "metadata": {},
   "source": [
    "## PART 2 OF LAB: Cleaning categorical data"
   ]
  },
  {
   "cell_type": "markdown",
   "id": "ba9be094",
   "metadata": {},
   "source": [
    "1. Import the necessary libraries if you are starting a new notebook"
   ]
  },
  {
   "cell_type": "markdown",
   "id": "850fe1b9",
   "metadata": {},
   "source": [
    "Already done, see #1 of part 1 of lab."
   ]
  },
  {
   "cell_type": "markdown",
   "id": "a9385436",
   "metadata": {},
   "source": [
    "2. Load the continuous and discrete variables into continuous_df and discrete_df variables."
   ]
  },
  {
   "cell_type": "code",
   "execution_count": 508,
   "id": "403013ae",
   "metadata": {},
   "outputs": [
    {
     "data": {
      "text/html": [
       "<div>\n",
       "<style scoped>\n",
       "    .dataframe tbody tr th:only-of-type {\n",
       "        vertical-align: middle;\n",
       "    }\n",
       "\n",
       "    .dataframe tbody tr th {\n",
       "        vertical-align: top;\n",
       "    }\n",
       "\n",
       "    .dataframe thead th {\n",
       "        text-align: right;\n",
       "    }\n",
       "</style>\n",
       "<table border=\"1\" class=\"dataframe\">\n",
       "  <thead>\n",
       "    <tr style=\"text-align: right;\">\n",
       "      <th></th>\n",
       "      <th>customer_lifetime_value</th>\n",
       "      <th>income</th>\n",
       "      <th>monthly_premium_auto</th>\n",
       "      <th>months_since_last_claim</th>\n",
       "      <th>months_since_policy_inception</th>\n",
       "      <th>total_claim_amount</th>\n",
       "    </tr>\n",
       "  </thead>\n",
       "  <tbody>\n",
       "    <tr>\n",
       "      <th>0</th>\n",
       "      <td>2763.519279</td>\n",
       "      <td>56274</td>\n",
       "      <td>69</td>\n",
       "      <td>32</td>\n",
       "      <td>5</td>\n",
       "      <td>384.811147</td>\n",
       "    </tr>\n",
       "    <tr>\n",
       "      <th>1</th>\n",
       "      <td>6979.535903</td>\n",
       "      <td>0</td>\n",
       "      <td>94</td>\n",
       "      <td>13</td>\n",
       "      <td>42</td>\n",
       "      <td>1131.464935</td>\n",
       "    </tr>\n",
       "    <tr>\n",
       "      <th>2</th>\n",
       "      <td>12887.431650</td>\n",
       "      <td>48767</td>\n",
       "      <td>108</td>\n",
       "      <td>18</td>\n",
       "      <td>38</td>\n",
       "      <td>566.472247</td>\n",
       "    </tr>\n",
       "    <tr>\n",
       "      <th>3</th>\n",
       "      <td>7645.861827</td>\n",
       "      <td>0</td>\n",
       "      <td>106</td>\n",
       "      <td>18</td>\n",
       "      <td>65</td>\n",
       "      <td>529.881344</td>\n",
       "    </tr>\n",
       "    <tr>\n",
       "      <th>4</th>\n",
       "      <td>2813.692575</td>\n",
       "      <td>43836</td>\n",
       "      <td>73</td>\n",
       "      <td>12</td>\n",
       "      <td>44</td>\n",
       "      <td>138.130879</td>\n",
       "    </tr>\n",
       "    <tr>\n",
       "      <th>...</th>\n",
       "      <td>...</td>\n",
       "      <td>...</td>\n",
       "      <td>...</td>\n",
       "      <td>...</td>\n",
       "      <td>...</td>\n",
       "      <td>...</td>\n",
       "    </tr>\n",
       "    <tr>\n",
       "      <th>9129</th>\n",
       "      <td>23405.987980</td>\n",
       "      <td>71941</td>\n",
       "      <td>73</td>\n",
       "      <td>18</td>\n",
       "      <td>89</td>\n",
       "      <td>198.234764</td>\n",
       "    </tr>\n",
       "    <tr>\n",
       "      <th>9130</th>\n",
       "      <td>3096.511217</td>\n",
       "      <td>21604</td>\n",
       "      <td>79</td>\n",
       "      <td>14</td>\n",
       "      <td>28</td>\n",
       "      <td>379.200000</td>\n",
       "    </tr>\n",
       "    <tr>\n",
       "      <th>9131</th>\n",
       "      <td>8163.890428</td>\n",
       "      <td>0</td>\n",
       "      <td>85</td>\n",
       "      <td>9</td>\n",
       "      <td>37</td>\n",
       "      <td>790.784983</td>\n",
       "    </tr>\n",
       "    <tr>\n",
       "      <th>9132</th>\n",
       "      <td>7524.442436</td>\n",
       "      <td>21941</td>\n",
       "      <td>96</td>\n",
       "      <td>34</td>\n",
       "      <td>3</td>\n",
       "      <td>691.200000</td>\n",
       "    </tr>\n",
       "    <tr>\n",
       "      <th>9133</th>\n",
       "      <td>2611.836866</td>\n",
       "      <td>0</td>\n",
       "      <td>77</td>\n",
       "      <td>3</td>\n",
       "      <td>90</td>\n",
       "      <td>369.600000</td>\n",
       "    </tr>\n",
       "  </tbody>\n",
       "</table>\n",
       "<p>9134 rows × 6 columns</p>\n",
       "</div>"
      ],
      "text/plain": [
       "      customer_lifetime_value  income  monthly_premium_auto  \\\n",
       "0                 2763.519279   56274                    69   \n",
       "1                 6979.535903       0                    94   \n",
       "2                12887.431650   48767                   108   \n",
       "3                 7645.861827       0                   106   \n",
       "4                 2813.692575   43836                    73   \n",
       "...                       ...     ...                   ...   \n",
       "9129             23405.987980   71941                    73   \n",
       "9130              3096.511217   21604                    79   \n",
       "9131              8163.890428       0                    85   \n",
       "9132              7524.442436   21941                    96   \n",
       "9133              2611.836866       0                    77   \n",
       "\n",
       "      months_since_last_claim  months_since_policy_inception  \\\n",
       "0                          32                              5   \n",
       "1                          13                             42   \n",
       "2                          18                             38   \n",
       "3                          18                             65   \n",
       "4                          12                             44   \n",
       "...                       ...                            ...   \n",
       "9129                       18                             89   \n",
       "9130                       14                             28   \n",
       "9131                        9                             37   \n",
       "9132                       34                              3   \n",
       "9133                        3                             90   \n",
       "\n",
       "      total_claim_amount  \n",
       "0             384.811147  \n",
       "1            1131.464935  \n",
       "2             566.472247  \n",
       "3             529.881344  \n",
       "4             138.130879  \n",
       "...                  ...  \n",
       "9129          198.234764  \n",
       "9130          379.200000  \n",
       "9131          790.784983  \n",
       "9132          691.200000  \n",
       "9133          369.600000  \n",
       "\n",
       "[9134 rows x 6 columns]"
      ]
     },
     "execution_count": 508,
     "metadata": {},
     "output_type": "execute_result"
    }
   ],
   "source": [
    "continuous_df = customer_df[continuous]\n",
    "continuous_df"
   ]
  },
  {
   "cell_type": "code",
   "execution_count": 509,
   "id": "2ec51397",
   "metadata": {},
   "outputs": [
    {
     "data": {
      "text/html": [
       "<div>\n",
       "<style scoped>\n",
       "    .dataframe tbody tr th:only-of-type {\n",
       "        vertical-align: middle;\n",
       "    }\n",
       "\n",
       "    .dataframe tbody tr th {\n",
       "        vertical-align: top;\n",
       "    }\n",
       "\n",
       "    .dataframe thead th {\n",
       "        text-align: right;\n",
       "    }\n",
       "</style>\n",
       "<table border=\"1\" class=\"dataframe\">\n",
       "  <thead>\n",
       "    <tr style=\"text-align: right;\">\n",
       "      <th></th>\n",
       "      <th>number_of_open_complaints</th>\n",
       "      <th>number_of_policies</th>\n",
       "    </tr>\n",
       "  </thead>\n",
       "  <tbody>\n",
       "    <tr>\n",
       "      <th>0</th>\n",
       "      <td>0</td>\n",
       "      <td>1</td>\n",
       "    </tr>\n",
       "    <tr>\n",
       "      <th>1</th>\n",
       "      <td>0</td>\n",
       "      <td>8</td>\n",
       "    </tr>\n",
       "    <tr>\n",
       "      <th>2</th>\n",
       "      <td>0</td>\n",
       "      <td>2</td>\n",
       "    </tr>\n",
       "    <tr>\n",
       "      <th>3</th>\n",
       "      <td>0</td>\n",
       "      <td>7</td>\n",
       "    </tr>\n",
       "    <tr>\n",
       "      <th>4</th>\n",
       "      <td>0</td>\n",
       "      <td>1</td>\n",
       "    </tr>\n",
       "    <tr>\n",
       "      <th>...</th>\n",
       "      <td>...</td>\n",
       "      <td>...</td>\n",
       "    </tr>\n",
       "    <tr>\n",
       "      <th>9129</th>\n",
       "      <td>0</td>\n",
       "      <td>2</td>\n",
       "    </tr>\n",
       "    <tr>\n",
       "      <th>9130</th>\n",
       "      <td>0</td>\n",
       "      <td>1</td>\n",
       "    </tr>\n",
       "    <tr>\n",
       "      <th>9131</th>\n",
       "      <td>3</td>\n",
       "      <td>2</td>\n",
       "    </tr>\n",
       "    <tr>\n",
       "      <th>9132</th>\n",
       "      <td>0</td>\n",
       "      <td>3</td>\n",
       "    </tr>\n",
       "    <tr>\n",
       "      <th>9133</th>\n",
       "      <td>0</td>\n",
       "      <td>1</td>\n",
       "    </tr>\n",
       "  </tbody>\n",
       "</table>\n",
       "<p>9134 rows × 2 columns</p>\n",
       "</div>"
      ],
      "text/plain": [
       "      number_of_open_complaints  number_of_policies\n",
       "0                             0                   1\n",
       "1                             0                   8\n",
       "2                             0                   2\n",
       "3                             0                   7\n",
       "4                             0                   1\n",
       "...                         ...                 ...\n",
       "9129                          0                   2\n",
       "9130                          0                   1\n",
       "9131                          3                   2\n",
       "9132                          0                   3\n",
       "9133                          0                   1\n",
       "\n",
       "[9134 rows x 2 columns]"
      ]
     },
     "execution_count": 509,
     "metadata": {},
     "output_type": "execute_result"
    }
   ],
   "source": [
    "discrete_numerical = [x for x in discrete if customer_df[x].dtype != 'O']\n",
    "discrete_df = customer_df[discrete_numerical]\n",
    "discrete_df"
   ]
  },
  {
   "cell_type": "markdown",
   "id": "3eac56ac",
   "metadata": {},
   "source": [
    "3. Plot a correlation matrix, what can you see?"
   ]
  },
  {
   "cell_type": "code",
   "execution_count": 512,
   "id": "39c1ff03",
   "metadata": {},
   "outputs": [
    {
     "data": {
      "text/html": [
       "<div>\n",
       "<style scoped>\n",
       "    .dataframe tbody tr th:only-of-type {\n",
       "        vertical-align: middle;\n",
       "    }\n",
       "\n",
       "    .dataframe tbody tr th {\n",
       "        vertical-align: top;\n",
       "    }\n",
       "\n",
       "    .dataframe thead th {\n",
       "        text-align: right;\n",
       "    }\n",
       "</style>\n",
       "<table border=\"1\" class=\"dataframe\">\n",
       "  <thead>\n",
       "    <tr style=\"text-align: right;\">\n",
       "      <th></th>\n",
       "      <th>number_of_open_complaints</th>\n",
       "      <th>number_of_policies</th>\n",
       "    </tr>\n",
       "  </thead>\n",
       "  <tbody>\n",
       "    <tr>\n",
       "      <th>number_of_open_complaints</th>\n",
       "      <td>1.000000</td>\n",
       "      <td>0.001498</td>\n",
       "    </tr>\n",
       "    <tr>\n",
       "      <th>number_of_policies</th>\n",
       "      <td>0.001498</td>\n",
       "      <td>1.000000</td>\n",
       "    </tr>\n",
       "  </tbody>\n",
       "</table>\n",
       "</div>"
      ],
      "text/plain": [
       "                           number_of_open_complaints  number_of_policies\n",
       "number_of_open_complaints                   1.000000            0.001498\n",
       "number_of_policies                          0.001498            1.000000"
      ]
     },
     "execution_count": 512,
     "metadata": {},
     "output_type": "execute_result"
    }
   ],
   "source": [
    "cm_discrete = discrete_df.corr()\n",
    "cm_discrete"
   ]
  },
  {
   "cell_type": "code",
   "execution_count": 513,
   "id": "d3e72da9",
   "metadata": {},
   "outputs": [
    {
     "data": {
      "text/html": [
       "<div>\n",
       "<style scoped>\n",
       "    .dataframe tbody tr th:only-of-type {\n",
       "        vertical-align: middle;\n",
       "    }\n",
       "\n",
       "    .dataframe tbody tr th {\n",
       "        vertical-align: top;\n",
       "    }\n",
       "\n",
       "    .dataframe thead th {\n",
       "        text-align: right;\n",
       "    }\n",
       "</style>\n",
       "<table border=\"1\" class=\"dataframe\">\n",
       "  <thead>\n",
       "    <tr style=\"text-align: right;\">\n",
       "      <th></th>\n",
       "      <th>customer_lifetime_value</th>\n",
       "      <th>income</th>\n",
       "      <th>monthly_premium_auto</th>\n",
       "      <th>months_since_last_claim</th>\n",
       "      <th>months_since_policy_inception</th>\n",
       "      <th>total_claim_amount</th>\n",
       "    </tr>\n",
       "  </thead>\n",
       "  <tbody>\n",
       "    <tr>\n",
       "      <th>customer_lifetime_value</th>\n",
       "      <td>1.000000</td>\n",
       "      <td>0.024366</td>\n",
       "      <td>0.396262</td>\n",
       "      <td>0.011517</td>\n",
       "      <td>0.009418</td>\n",
       "      <td>0.226451</td>\n",
       "    </tr>\n",
       "    <tr>\n",
       "      <th>income</th>\n",
       "      <td>0.024366</td>\n",
       "      <td>1.000000</td>\n",
       "      <td>-0.016665</td>\n",
       "      <td>-0.026715</td>\n",
       "      <td>-0.000875</td>\n",
       "      <td>-0.355254</td>\n",
       "    </tr>\n",
       "    <tr>\n",
       "      <th>monthly_premium_auto</th>\n",
       "      <td>0.396262</td>\n",
       "      <td>-0.016665</td>\n",
       "      <td>1.000000</td>\n",
       "      <td>0.005026</td>\n",
       "      <td>0.020257</td>\n",
       "      <td>0.632017</td>\n",
       "    </tr>\n",
       "    <tr>\n",
       "      <th>months_since_last_claim</th>\n",
       "      <td>0.011517</td>\n",
       "      <td>-0.026715</td>\n",
       "      <td>0.005026</td>\n",
       "      <td>1.000000</td>\n",
       "      <td>-0.042959</td>\n",
       "      <td>0.007563</td>\n",
       "    </tr>\n",
       "    <tr>\n",
       "      <th>months_since_policy_inception</th>\n",
       "      <td>0.009418</td>\n",
       "      <td>-0.000875</td>\n",
       "      <td>0.020257</td>\n",
       "      <td>-0.042959</td>\n",
       "      <td>1.000000</td>\n",
       "      <td>0.003335</td>\n",
       "    </tr>\n",
       "    <tr>\n",
       "      <th>total_claim_amount</th>\n",
       "      <td>0.226451</td>\n",
       "      <td>-0.355254</td>\n",
       "      <td>0.632017</td>\n",
       "      <td>0.007563</td>\n",
       "      <td>0.003335</td>\n",
       "      <td>1.000000</td>\n",
       "    </tr>\n",
       "  </tbody>\n",
       "</table>\n",
       "</div>"
      ],
      "text/plain": [
       "                               customer_lifetime_value    income  \\\n",
       "customer_lifetime_value                       1.000000  0.024366   \n",
       "income                                        0.024366  1.000000   \n",
       "monthly_premium_auto                          0.396262 -0.016665   \n",
       "months_since_last_claim                       0.011517 -0.026715   \n",
       "months_since_policy_inception                 0.009418 -0.000875   \n",
       "total_claim_amount                            0.226451 -0.355254   \n",
       "\n",
       "                               monthly_premium_auto  months_since_last_claim  \\\n",
       "customer_lifetime_value                    0.396262                 0.011517   \n",
       "income                                    -0.016665                -0.026715   \n",
       "monthly_premium_auto                       1.000000                 0.005026   \n",
       "months_since_last_claim                    0.005026                 1.000000   \n",
       "months_since_policy_inception              0.020257                -0.042959   \n",
       "total_claim_amount                         0.632017                 0.007563   \n",
       "\n",
       "                               months_since_policy_inception  \\\n",
       "customer_lifetime_value                             0.009418   \n",
       "income                                             -0.000875   \n",
       "monthly_premium_auto                                0.020257   \n",
       "months_since_last_claim                            -0.042959   \n",
       "months_since_policy_inception                       1.000000   \n",
       "total_claim_amount                                  0.003335   \n",
       "\n",
       "                               total_claim_amount  \n",
       "customer_lifetime_value                  0.226451  \n",
       "income                                  -0.355254  \n",
       "monthly_premium_auto                     0.632017  \n",
       "months_since_last_claim                  0.007563  \n",
       "months_since_policy_inception            0.003335  \n",
       "total_claim_amount                       1.000000  "
      ]
     },
     "execution_count": 513,
     "metadata": {},
     "output_type": "execute_result"
    }
   ],
   "source": [
    "cm_continuous = continuous_df.corr()\n",
    "cm_continuous"
   ]
  },
  {
   "cell_type": "markdown",
   "id": "03441e03",
   "metadata": {},
   "source": [
    "I am not seeing any multicolinearity between features."
   ]
  },
  {
   "cell_type": "markdown",
   "id": "7ee0da13",
   "metadata": {},
   "source": [
    "4. Create a function to plot every discrete variables. Do the same with continuous variables (be careful, you may change the plot type to another one better suited for continuous data)."
   ]
  },
  {
   "cell_type": "code",
   "execution_count": 514,
   "id": "ca17cf5a",
   "metadata": {},
   "outputs": [
    {
     "data": {
      "image/png": "[encoded data removed]",
      "text/plain": [
       "<Figure size 360x360 with 1 Axes>"
      ]
     },
     "metadata": {
      "needs_background": "light"
     },
     "output_type": "display_data"
    },
    {
     "data": {
      "image/png": "[encoded data removed]",
      "text/plain": [
       "<Figure size 360x360 with 1 Axes>"
      ]
     },
     "metadata": {
      "needs_background": "light"
     },
     "output_type": "display_data"
    }
   ],
   "source": [
    "def discrete_plots(df):\n",
    "    for c in list(df.columns):\n",
    "        sns.displot(df[c])\n",
    "    plt.show()\n",
    "    return \n",
    "    \n",
    "discrete_plots(discrete_df)    \n",
    "    "
   ]
  },
  {
   "cell_type": "code",
   "execution_count": 515,
   "id": "8e574be4",
   "metadata": {},
   "outputs": [
    {
     "data": {
      "image/png": "[encoded data removed]",
      "text/plain": [
       "<Figure size 432x288 with 1 Axes>"
      ]
     },
     "metadata": {
      "needs_background": "light"
     },
     "output_type": "display_data"
    },
    {
     "data": {
      "image/png": "[encoded data removed]",
      "text/plain": [
       "<Figure size 432x288 with 1 Axes>"
      ]
     },
     "metadata": {
      "needs_background": "light"
     },
     "output_type": "display_data"
    },
    {
     "data": {
      "image/png": "[encoded data removed]",
      "text/plain": [
       "<Figure size 432x288 with 1 Axes>"
      ]
     },
     "metadata": {
      "needs_background": "light"
     },
     "output_type": "display_data"
    },
    {
     "data": {
      "image/png": "[encoded data removed]",
      "text/plain": [
       "<Figure size 432x288 with 1 Axes>"
      ]
     },
     "metadata": {
      "needs_background": "light"
     },
     "output_type": "display_data"
    },
    {
     "data": {
      "image/png": "[encoded data removed]",
      "text/plain": [
       "<Figure size 432x288 with 1 Axes>"
      ]
     },
     "metadata": {
      "needs_background": "light"
     },
     "output_type": "display_data"
    },
    {
     "data": {
      "image/png": "[encoded data removed]",
      "text/plain": [
       "<Figure size 432x288 with 1 Axes>"
      ]
     },
     "metadata": {
      "needs_background": "light"
     },
     "output_type": "display_data"
    }
   ],
   "source": [
    "def continuous_plots(df):\n",
    "    for c in list(df.columns):\n",
    "        sns.histplot(df[c])\n",
    "        plt.show()\n",
    "    return \n",
    "    \n",
    "continuous_plots(continuous_df) "
   ]
  },
  {
   "cell_type": "markdown",
   "id": "2bc9bb0b",
   "metadata": {},
   "source": [
    "5. What can you see in the plots?"
   ]
  },
  {
   "cell_type": "markdown",
   "id": "b48d56bf",
   "metadata": {},
   "source": [
    "Distribution is not normal, a lot of the features are right-skewed."
   ]
  },
  {
   "cell_type": "markdown",
   "id": "197ab9bf",
   "metadata": {},
   "source": [
    "6. Look for outliers in the continuous variables we have found. Hint: There was a good plot to do that."
   ]
  },
  {
   "cell_type": "code",
   "execution_count": 516,
   "id": "f3e1db2d",
   "metadata": {},
   "outputs": [
    {
     "name": "stderr",
     "output_type": "stream",
     "text": [
      "/usr/local/lib/python3.9/site-packages/seaborn/_decorators.py:36: FutureWarning: Pass the following variable as a keyword arg: x. From version 0.12, the only valid positional argument will be `data`, and passing other arguments without an explicit keyword will result in an error or misinterpretation.\n",
      "  warnings.warn(\n"
     ]
    },
    {
     "data": {
      "image/png": "[encoded data removed]",
      "text/plain": [
       "<Figure size 432x288 with 1 Axes>"
      ]
     },
     "metadata": {
      "needs_background": "light"
     },
     "output_type": "display_data"
    },
    {
     "name": "stderr",
     "output_type": "stream",
     "text": [
      "/usr/local/lib/python3.9/site-packages/seaborn/_decorators.py:36: FutureWarning: Pass the following variable as a keyword arg: x. From version 0.12, the only valid positional argument will be `data`, and passing other arguments without an explicit keyword will result in an error or misinterpretation.\n",
      "  warnings.warn(\n"
     ]
    },
    {
     "data": {
      "image/png": "[encoded data removed]",
      "text/plain": [
       "<Figure size 432x288 with 1 Axes>"
      ]
     },
     "metadata": {
      "needs_background": "light"
     },
     "output_type": "display_data"
    },
    {
     "name": "stderr",
     "output_type": "stream",
     "text": [
      "/usr/local/lib/python3.9/site-packages/seaborn/_decorators.py:36: FutureWarning: Pass the following variable as a keyword arg: x. From version 0.12, the only valid positional argument will be `data`, and passing other arguments without an explicit keyword will result in an error or misinterpretation.\n",
      "  warnings.warn(\n"
     ]
    },
    {
     "data": {
      "image/png": "[encoded data removed]",
      "text/plain": [
       "<Figure size 432x288 with 1 Axes>"
      ]
     },
     "metadata": {
      "needs_background": "light"
     },
     "output_type": "display_data"
    },
    {
     "name": "stderr",
     "output_type": "stream",
     "text": [
      "/usr/local/lib/python3.9/site-packages/seaborn/_decorators.py:36: FutureWarning: Pass the following variable as a keyword arg: x. From version 0.12, the only valid positional argument will be `data`, and passing other arguments without an explicit keyword will result in an error or misinterpretation.\n",
      "  warnings.warn(\n"
     ]
    },
    {
     "data": {
      "image/png": "[encoded data removed]",
      "text/plain": [
       "<Figure size 432x288 with 1 Axes>"
      ]
     },
     "metadata": {
      "needs_background": "light"
     },
     "output_type": "display_data"
    },
    {
     "name": "stderr",
     "output_type": "stream",
     "text": [
      "/usr/local/lib/python3.9/site-packages/seaborn/_decorators.py:36: FutureWarning: Pass the following variable as a keyword arg: x. From version 0.12, the only valid positional argument will be `data`, and passing other arguments without an explicit keyword will result in an error or misinterpretation.\n",
      "  warnings.warn(\n"
     ]
    },
    {
     "data": {
      "image/png": "[encoded data removed]",
      "text/plain": [
       "<Figure size 432x288 with 1 Axes>"
      ]
     },
     "metadata": {
      "needs_background": "light"
     },
     "output_type": "display_data"
    },
    {
     "name": "stderr",
     "output_type": "stream",
     "text": [
      "/usr/local/lib/python3.9/site-packages/seaborn/_decorators.py:36: FutureWarning: Pass the following variable as a keyword arg: x. From version 0.12, the only valid positional argument will be `data`, and passing other arguments without an explicit keyword will result in an error or misinterpretation.\n",
      "  warnings.warn(\n"
     ]
    },
    {
     "data": {
      "image/png": "[encoded data removed]",
      "text/plain": [
       "<Figure size 432x288 with 1 Axes>"
      ]
     },
     "metadata": {
      "needs_background": "light"
     },
     "output_type": "display_data"
    }
   ],
   "source": [
    "def make_boxplots(df):\n",
    "    for c in list(df.columns):\n",
    "        sns.boxplot(df[c])\n",
    "        plt.show()\n",
    "    return \n",
    "    \n",
    "make_boxplots(continuous_df)"
   ]
  },
  {
   "cell_type": "code",
   "execution_count": 517,
   "id": "f67d3b6d",
   "metadata": {},
   "outputs": [
    {
     "name": "stdout",
     "output_type": "stream",
     "text": [
      "16414.039911750002\n"
     ]
    },
    {
     "data": {
      "text/plain": [
       "0.08944602583753011"
      ]
     },
     "execution_count": 517,
     "metadata": {},
     "output_type": "execute_result"
    }
   ],
   "source": [
    "#customer_lifetime_value\n",
    "iqr_clv = np.percentile(continuous_df['customer_lifetime_value'],75) - np.percentile(continuous_df['customer_lifetime_value'],25)\n",
    "upper_limit = np.percentile(continuous_df['customer_lifetime_value'],75) + 1.5*iqr_clv\n",
    "print(upper_limit)  #16414\n",
    "\n",
    "extraordinary_points = continuous_df[continuous_df['customer_lifetime_value'] > upper_limit]\n",
    "len(extraordinary_points) #817\n",
    "len(extraordinary_points)/len(continuous_df) #8.9%"
   ]
  },
  {
   "cell_type": "markdown",
   "id": "869d97b5",
   "metadata": {},
   "source": [
    "Outliers represent 8.9% of total values for the feature customer_lifetime_value."
   ]
  },
  {
   "cell_type": "code",
   "execution_count": 518,
   "id": "c9045c80",
   "metadata": {},
   "outputs": [
    {
     "name": "stdout",
     "output_type": "stream",
     "text": [
      "170.5\n"
     ]
    },
    {
     "data": {
      "text/plain": [
       "0.047076855703963215"
      ]
     },
     "execution_count": 518,
     "metadata": {},
     "output_type": "execute_result"
    }
   ],
   "source": [
    "# monthly_premium_auto\n",
    "iqr_mpa = np.percentile(continuous_df['monthly_premium_auto'],75) - np.percentile(continuous_df['monthly_premium_auto'],25)\n",
    "upper_limit = np.percentile(continuous_df['monthly_premium_auto'],75) + 1.5*iqr_mpa\n",
    "print(upper_limit)  #170.5\n",
    "\n",
    "extraordinary_points = discrete_df[continuous_df['monthly_premium_auto'] > upper_limit]\n",
    "len(extraordinary_points)  #430\n",
    "len(extraordinary_points)/len(continuous_df)  # 4.7%"
   ]
  },
  {
   "cell_type": "markdown",
   "id": "318ed90b",
   "metadata": {},
   "source": [
    "Outliers represent 4.7% of the total values for monthly_premium_auto."
   ]
  },
  {
   "cell_type": "markdown",
   "id": "4e96308a",
   "metadata": {},
   "source": [
    "7. Have you found outliers? If you have, what should we do with them?"
   ]
  },
  {
   "cell_type": "markdown",
   "id": "c14607e3",
   "metadata": {},
   "source": [
    "We can use logartithmic transformation on customer_lifetime_value and monthly_premium_auto to reduce the outliers."
   ]
  },
  {
   "cell_type": "code",
   "execution_count": 359,
   "id": "81f5875f",
   "metadata": {},
   "outputs": [],
   "source": [
    "def log_transfom_clean(x):   \n",
    "    if np.isfinite(x) and x!=0:\n",
    "        return np.log(x)\n",
    "    else:\n",
    "        return np.NAN"
   ]
  },
  {
   "cell_type": "code",
   "execution_count": 519,
   "id": "d036ee7c",
   "metadata": {},
   "outputs": [
    {
     "name": "stderr",
     "output_type": "stream",
     "text": [
      "/var/folders/tg/qj8xd12d4kldbd9gnfgt88th0000gn/T/ipykernel_30471/2451702290.py:1: SettingWithCopyWarning: \n",
      "A value is trying to be set on a copy of a slice from a DataFrame.\n",
      "Try using .loc[row_indexer,col_indexer] = value instead\n",
      "\n",
      "See the caveats in the documentation: https://pandas.pydata.org/pandas-docs/stable/user_guide/indexing.html#returning-a-view-versus-a-copy\n",
      "  continuous_df['log_customer_lifetime_value'] = continuous_df['customer_lifetime_value'].apply(log_transfom_clean)\n"
     ]
    },
    {
     "data": {
      "image/png": "[encoded data removed]",
      "text/plain": [
       "<Figure size 432x288 with 1 Axes>"
      ]
     },
     "metadata": {
      "needs_background": "light"
     },
     "output_type": "display_data"
    }
   ],
   "source": [
    "continuous_df['log_customer_lifetime_value'] = continuous_df['customer_lifetime_value'].apply(log_transfom_clean)\n",
    "continuous_df['log_customer_lifetime_value'].hist()\n",
    "plt.show()"
   ]
  },
  {
   "cell_type": "code",
   "execution_count": 520,
   "id": "77210c10",
   "metadata": {},
   "outputs": [
    {
     "name": "stdout",
     "output_type": "stream",
     "text": [
      "10.313001003057334\n"
     ]
    },
    {
     "data": {
      "text/plain": [
       "0.020253996058681847"
      ]
     },
     "execution_count": 520,
     "metadata": {},
     "output_type": "execute_result"
    }
   ],
   "source": [
    "iqr_clv = np.percentile(continuous_df['log_customer_lifetime_value'],75) - np.percentile(continuous_df['log_customer_lifetime_value'],25)\n",
    "upper_limit = np.percentile(continuous_df['log_customer_lifetime_value'],75) + 1.5*iqr_clv\n",
    "print(upper_limit)  #10.3\n",
    "\n",
    "extraordinary_points = continuous_df[continuous_df['log_customer_lifetime_value'] > upper_limit]\n",
    "len(extraordinary_points) #185\n",
    "len(extraordinary_points)/len(continuous_df)  # 2%"
   ]
  },
  {
   "cell_type": "markdown",
   "id": "f8f675ef",
   "metadata": {},
   "source": [
    "Logarithmic transformation reduced the outliers to 2%, I think it would be best to remove the outliers at this point."
   ]
  },
  {
   "cell_type": "code",
   "execution_count": 521,
   "id": "ea29ad39",
   "metadata": {},
   "outputs": [],
   "source": [
    "continuous_df = continuous_df[continuous_df.log_customer_lifetime_value <= upper_limit]"
   ]
  },
  {
   "cell_type": "code",
   "execution_count": 522,
   "id": "f187a38e",
   "metadata": {},
   "outputs": [
    {
     "data": {
      "text/html": [
       "<div>\n",
       "<style scoped>\n",
       "    .dataframe tbody tr th:only-of-type {\n",
       "        vertical-align: middle;\n",
       "    }\n",
       "\n",
       "    .dataframe tbody tr th {\n",
       "        vertical-align: top;\n",
       "    }\n",
       "\n",
       "    .dataframe thead th {\n",
       "        text-align: right;\n",
       "    }\n",
       "</style>\n",
       "<table border=\"1\" class=\"dataframe\">\n",
       "  <thead>\n",
       "    <tr style=\"text-align: right;\">\n",
       "      <th></th>\n",
       "      <th>customer_lifetime_value</th>\n",
       "      <th>income</th>\n",
       "      <th>monthly_premium_auto</th>\n",
       "      <th>months_since_last_claim</th>\n",
       "      <th>months_since_policy_inception</th>\n",
       "      <th>total_claim_amount</th>\n",
       "      <th>log_customer_lifetime_value</th>\n",
       "    </tr>\n",
       "  </thead>\n",
       "  <tbody>\n",
       "    <tr>\n",
       "      <th>0</th>\n",
       "      <td>2763.519279</td>\n",
       "      <td>56274</td>\n",
       "      <td>69</td>\n",
       "      <td>32</td>\n",
       "      <td>5</td>\n",
       "      <td>384.811147</td>\n",
       "      <td>7.924260</td>\n",
       "    </tr>\n",
       "    <tr>\n",
       "      <th>1</th>\n",
       "      <td>6979.535903</td>\n",
       "      <td>0</td>\n",
       "      <td>94</td>\n",
       "      <td>13</td>\n",
       "      <td>42</td>\n",
       "      <td>1131.464935</td>\n",
       "      <td>8.850738</td>\n",
       "    </tr>\n",
       "    <tr>\n",
       "      <th>2</th>\n",
       "      <td>12887.431650</td>\n",
       "      <td>48767</td>\n",
       "      <td>108</td>\n",
       "      <td>18</td>\n",
       "      <td>38</td>\n",
       "      <td>566.472247</td>\n",
       "      <td>9.464008</td>\n",
       "    </tr>\n",
       "    <tr>\n",
       "      <th>3</th>\n",
       "      <td>7645.861827</td>\n",
       "      <td>0</td>\n",
       "      <td>106</td>\n",
       "      <td>18</td>\n",
       "      <td>65</td>\n",
       "      <td>529.881344</td>\n",
       "      <td>8.941920</td>\n",
       "    </tr>\n",
       "    <tr>\n",
       "      <th>4</th>\n",
       "      <td>2813.692575</td>\n",
       "      <td>43836</td>\n",
       "      <td>73</td>\n",
       "      <td>12</td>\n",
       "      <td>44</td>\n",
       "      <td>138.130879</td>\n",
       "      <td>7.942253</td>\n",
       "    </tr>\n",
       "    <tr>\n",
       "      <th>...</th>\n",
       "      <td>...</td>\n",
       "      <td>...</td>\n",
       "      <td>...</td>\n",
       "      <td>...</td>\n",
       "      <td>...</td>\n",
       "      <td>...</td>\n",
       "      <td>...</td>\n",
       "    </tr>\n",
       "    <tr>\n",
       "      <th>9129</th>\n",
       "      <td>23405.987980</td>\n",
       "      <td>71941</td>\n",
       "      <td>73</td>\n",
       "      <td>18</td>\n",
       "      <td>89</td>\n",
       "      <td>198.234764</td>\n",
       "      <td>10.060747</td>\n",
       "    </tr>\n",
       "    <tr>\n",
       "      <th>9130</th>\n",
       "      <td>3096.511217</td>\n",
       "      <td>21604</td>\n",
       "      <td>79</td>\n",
       "      <td>14</td>\n",
       "      <td>28</td>\n",
       "      <td>379.200000</td>\n",
       "      <td>8.038031</td>\n",
       "    </tr>\n",
       "    <tr>\n",
       "      <th>9131</th>\n",
       "      <td>8163.890428</td>\n",
       "      <td>0</td>\n",
       "      <td>85</td>\n",
       "      <td>9</td>\n",
       "      <td>37</td>\n",
       "      <td>790.784983</td>\n",
       "      <td>9.007476</td>\n",
       "    </tr>\n",
       "    <tr>\n",
       "      <th>9132</th>\n",
       "      <td>7524.442436</td>\n",
       "      <td>21941</td>\n",
       "      <td>96</td>\n",
       "      <td>34</td>\n",
       "      <td>3</td>\n",
       "      <td>691.200000</td>\n",
       "      <td>8.925912</td>\n",
       "    </tr>\n",
       "    <tr>\n",
       "      <th>9133</th>\n",
       "      <td>2611.836866</td>\n",
       "      <td>0</td>\n",
       "      <td>77</td>\n",
       "      <td>3</td>\n",
       "      <td>90</td>\n",
       "      <td>369.600000</td>\n",
       "      <td>7.867809</td>\n",
       "    </tr>\n",
       "  </tbody>\n",
       "</table>\n",
       "<p>8949 rows × 7 columns</p>\n",
       "</div>"
      ],
      "text/plain": [
       "      customer_lifetime_value  income  monthly_premium_auto  \\\n",
       "0                 2763.519279   56274                    69   \n",
       "1                 6979.535903       0                    94   \n",
       "2                12887.431650   48767                   108   \n",
       "3                 7645.861827       0                   106   \n",
       "4                 2813.692575   43836                    73   \n",
       "...                       ...     ...                   ...   \n",
       "9129             23405.987980   71941                    73   \n",
       "9130              3096.511217   21604                    79   \n",
       "9131              8163.890428       0                    85   \n",
       "9132              7524.442436   21941                    96   \n",
       "9133              2611.836866       0                    77   \n",
       "\n",
       "      months_since_last_claim  months_since_policy_inception  \\\n",
       "0                          32                              5   \n",
       "1                          13                             42   \n",
       "2                          18                             38   \n",
       "3                          18                             65   \n",
       "4                          12                             44   \n",
       "...                       ...                            ...   \n",
       "9129                       18                             89   \n",
       "9130                       14                             28   \n",
       "9131                        9                             37   \n",
       "9132                       34                              3   \n",
       "9133                        3                             90   \n",
       "\n",
       "      total_claim_amount  log_customer_lifetime_value  \n",
       "0             384.811147                     7.924260  \n",
       "1            1131.464935                     8.850738  \n",
       "2             566.472247                     9.464008  \n",
       "3             529.881344                     8.941920  \n",
       "4             138.130879                     7.942253  \n",
       "...                  ...                          ...  \n",
       "9129          198.234764                    10.060747  \n",
       "9130          379.200000                     8.038031  \n",
       "9131          790.784983                     9.007476  \n",
       "9132          691.200000                     8.925912  \n",
       "9133          369.600000                     7.867809  \n",
       "\n",
       "[8949 rows x 7 columns]"
      ]
     },
     "execution_count": 522,
     "metadata": {},
     "output_type": "execute_result"
    }
   ],
   "source": [
    "continuous_df #now 8949 rows, kept original index"
   ]
  },
  {
   "cell_type": "code",
   "execution_count": 523,
   "id": "bdbd01ea",
   "metadata": {},
   "outputs": [
    {
     "name": "stderr",
     "output_type": "stream",
     "text": [
      "/usr/local/lib/python3.9/site-packages/pandas/core/frame.py:4901: SettingWithCopyWarning: \n",
      "A value is trying to be set on a copy of a slice from a DataFrame\n",
      "\n",
      "See the caveats in the documentation: https://pandas.pydata.org/pandas-docs/stable/user_guide/indexing.html#returning-a-view-versus-a-copy\n",
      "  return super().drop(\n"
     ]
    }
   ],
   "source": [
    "continuous_df.drop(['customer_lifetime_value'], axis=1, inplace=True)"
   ]
  },
  {
   "cell_type": "code",
   "execution_count": 524,
   "id": "12f7d755",
   "metadata": {},
   "outputs": [
    {
     "name": "stderr",
     "output_type": "stream",
     "text": [
      "/var/folders/tg/qj8xd12d4kldbd9gnfgt88th0000gn/T/ipykernel_30471/2203454677.py:1: SettingWithCopyWarning: \n",
      "A value is trying to be set on a copy of a slice from a DataFrame.\n",
      "Try using .loc[row_indexer,col_indexer] = value instead\n",
      "\n",
      "See the caveats in the documentation: https://pandas.pydata.org/pandas-docs/stable/user_guide/indexing.html#returning-a-view-versus-a-copy\n",
      "  continuous_df['log_monthly_premium_auto'] = continuous_df['monthly_premium_auto'].apply(log_transfom_clean)\n"
     ]
    },
    {
     "data": {
      "image/png": "[encoded data removed]",
      "text/plain": [
       "<Figure size 432x288 with 1 Axes>"
      ]
     },
     "metadata": {
      "needs_background": "light"
     },
     "output_type": "display_data"
    }
   ],
   "source": [
    "continuous_df['log_monthly_premium_auto'] = continuous_df['monthly_premium_auto'].apply(log_transfom_clean)\n",
    "continuous_df['log_monthly_premium_auto'].hist()\n",
    "plt.show()"
   ]
  },
  {
   "cell_type": "code",
   "execution_count": 527,
   "id": "35e03669",
   "metadata": {},
   "outputs": [
    {
     "name": "stdout",
     "output_type": "stream",
     "text": [
      "5.376066510046389\n"
     ]
    },
    {
     "data": {
      "text/plain": [
       "0.011062688568555145"
      ]
     },
     "execution_count": 527,
     "metadata": {},
     "output_type": "execute_result"
    }
   ],
   "source": [
    "iqr_clv = np.percentile(continuous_df['log_monthly_premium_auto'],75) - np.percentile(continuous_df['log_monthly_premium_auto'],25)\n",
    "upper_limit = np.percentile(continuous_df['log_monthly_premium_auto'],75) + 1.5*iqr_clv\n",
    "print(upper_limit)  #5.38\n",
    "\n",
    "extraordinary_points = continuous_df[continuous_df['log_monthly_premium_auto'] > upper_limit]\n",
    "len(extraordinary_points) #99\n",
    "len(extraordinary_points)/len(continuous_df) # 1.1%"
   ]
  },
  {
   "cell_type": "markdown",
   "id": "59a04017",
   "metadata": {},
   "source": [
    "Outliers represent 1.2% of total values for monthly_premium_auto after log transformation. Dropping those outliers."
   ]
  },
  {
   "cell_type": "code",
   "execution_count": 528,
   "id": "1db5eaeb",
   "metadata": {},
   "outputs": [],
   "source": [
    "continuous_df = continuous_df[continuous_df.log_monthly_premium_auto <= upper_limit]"
   ]
  },
  {
   "cell_type": "code",
   "execution_count": 529,
   "id": "fd5dd95b",
   "metadata": {},
   "outputs": [
    {
     "data": {
      "text/html": [
       "<div>\n",
       "<style scoped>\n",
       "    .dataframe tbody tr th:only-of-type {\n",
       "        vertical-align: middle;\n",
       "    }\n",
       "\n",
       "    .dataframe tbody tr th {\n",
       "        vertical-align: top;\n",
       "    }\n",
       "\n",
       "    .dataframe thead th {\n",
       "        text-align: right;\n",
       "    }\n",
       "</style>\n",
       "<table border=\"1\" class=\"dataframe\">\n",
       "  <thead>\n",
       "    <tr style=\"text-align: right;\">\n",
       "      <th></th>\n",
       "      <th>income</th>\n",
       "      <th>monthly_premium_auto</th>\n",
       "      <th>months_since_last_claim</th>\n",
       "      <th>months_since_policy_inception</th>\n",
       "      <th>total_claim_amount</th>\n",
       "      <th>log_customer_lifetime_value</th>\n",
       "      <th>log_monthly_premium_auto</th>\n",
       "    </tr>\n",
       "  </thead>\n",
       "  <tbody>\n",
       "    <tr>\n",
       "      <th>0</th>\n",
       "      <td>56274</td>\n",
       "      <td>69</td>\n",
       "      <td>32</td>\n",
       "      <td>5</td>\n",
       "      <td>384.811147</td>\n",
       "      <td>7.924260</td>\n",
       "      <td>4.234107</td>\n",
       "    </tr>\n",
       "    <tr>\n",
       "      <th>1</th>\n",
       "      <td>0</td>\n",
       "      <td>94</td>\n",
       "      <td>13</td>\n",
       "      <td>42</td>\n",
       "      <td>1131.464935</td>\n",
       "      <td>8.850738</td>\n",
       "      <td>4.543295</td>\n",
       "    </tr>\n",
       "    <tr>\n",
       "      <th>2</th>\n",
       "      <td>48767</td>\n",
       "      <td>108</td>\n",
       "      <td>18</td>\n",
       "      <td>38</td>\n",
       "      <td>566.472247</td>\n",
       "      <td>9.464008</td>\n",
       "      <td>4.682131</td>\n",
       "    </tr>\n",
       "    <tr>\n",
       "      <th>3</th>\n",
       "      <td>0</td>\n",
       "      <td>106</td>\n",
       "      <td>18</td>\n",
       "      <td>65</td>\n",
       "      <td>529.881344</td>\n",
       "      <td>8.941920</td>\n",
       "      <td>4.663439</td>\n",
       "    </tr>\n",
       "    <tr>\n",
       "      <th>4</th>\n",
       "      <td>43836</td>\n",
       "      <td>73</td>\n",
       "      <td>12</td>\n",
       "      <td>44</td>\n",
       "      <td>138.130879</td>\n",
       "      <td>7.942253</td>\n",
       "      <td>4.290459</td>\n",
       "    </tr>\n",
       "    <tr>\n",
       "      <th>...</th>\n",
       "      <td>...</td>\n",
       "      <td>...</td>\n",
       "      <td>...</td>\n",
       "      <td>...</td>\n",
       "      <td>...</td>\n",
       "      <td>...</td>\n",
       "      <td>...</td>\n",
       "    </tr>\n",
       "    <tr>\n",
       "      <th>9129</th>\n",
       "      <td>71941</td>\n",
       "      <td>73</td>\n",
       "      <td>18</td>\n",
       "      <td>89</td>\n",
       "      <td>198.234764</td>\n",
       "      <td>10.060747</td>\n",
       "      <td>4.290459</td>\n",
       "    </tr>\n",
       "    <tr>\n",
       "      <th>9130</th>\n",
       "      <td>21604</td>\n",
       "      <td>79</td>\n",
       "      <td>14</td>\n",
       "      <td>28</td>\n",
       "      <td>379.200000</td>\n",
       "      <td>8.038031</td>\n",
       "      <td>4.369448</td>\n",
       "    </tr>\n",
       "    <tr>\n",
       "      <th>9131</th>\n",
       "      <td>0</td>\n",
       "      <td>85</td>\n",
       "      <td>9</td>\n",
       "      <td>37</td>\n",
       "      <td>790.784983</td>\n",
       "      <td>9.007476</td>\n",
       "      <td>4.442651</td>\n",
       "    </tr>\n",
       "    <tr>\n",
       "      <th>9132</th>\n",
       "      <td>21941</td>\n",
       "      <td>96</td>\n",
       "      <td>34</td>\n",
       "      <td>3</td>\n",
       "      <td>691.200000</td>\n",
       "      <td>8.925912</td>\n",
       "      <td>4.564348</td>\n",
       "    </tr>\n",
       "    <tr>\n",
       "      <th>9133</th>\n",
       "      <td>0</td>\n",
       "      <td>77</td>\n",
       "      <td>3</td>\n",
       "      <td>90</td>\n",
       "      <td>369.600000</td>\n",
       "      <td>7.867809</td>\n",
       "      <td>4.343805</td>\n",
       "    </tr>\n",
       "  </tbody>\n",
       "</table>\n",
       "<p>8850 rows × 7 columns</p>\n",
       "</div>"
      ],
      "text/plain": [
       "      income  monthly_premium_auto  months_since_last_claim  \\\n",
       "0      56274                    69                       32   \n",
       "1          0                    94                       13   \n",
       "2      48767                   108                       18   \n",
       "3          0                   106                       18   \n",
       "4      43836                    73                       12   \n",
       "...      ...                   ...                      ...   \n",
       "9129   71941                    73                       18   \n",
       "9130   21604                    79                       14   \n",
       "9131       0                    85                        9   \n",
       "9132   21941                    96                       34   \n",
       "9133       0                    77                        3   \n",
       "\n",
       "      months_since_policy_inception  total_claim_amount  \\\n",
       "0                                 5          384.811147   \n",
       "1                                42         1131.464935   \n",
       "2                                38          566.472247   \n",
       "3                                65          529.881344   \n",
       "4                                44          138.130879   \n",
       "...                             ...                 ...   \n",
       "9129                             89          198.234764   \n",
       "9130                             28          379.200000   \n",
       "9131                             37          790.784983   \n",
       "9132                              3          691.200000   \n",
       "9133                             90          369.600000   \n",
       "\n",
       "      log_customer_lifetime_value  log_monthly_premium_auto  \n",
       "0                        7.924260                  4.234107  \n",
       "1                        8.850738                  4.543295  \n",
       "2                        9.464008                  4.682131  \n",
       "3                        8.941920                  4.663439  \n",
       "4                        7.942253                  4.290459  \n",
       "...                           ...                       ...  \n",
       "9129                    10.060747                  4.290459  \n",
       "9130                     8.038031                  4.369448  \n",
       "9131                     9.007476                  4.442651  \n",
       "9132                     8.925912                  4.564348  \n",
       "9133                     7.867809                  4.343805  \n",
       "\n",
       "[8850 rows x 7 columns]"
      ]
     },
     "execution_count": 529,
     "metadata": {},
     "output_type": "execute_result"
    }
   ],
   "source": [
    "continuous_df #now 8850 rows"
   ]
  },
  {
   "cell_type": "code",
   "execution_count": 530,
   "id": "a20e39ab",
   "metadata": {},
   "outputs": [
    {
     "name": "stderr",
     "output_type": "stream",
     "text": [
      "/usr/local/lib/python3.9/site-packages/pandas/core/frame.py:4901: SettingWithCopyWarning: \n",
      "A value is trying to be set on a copy of a slice from a DataFrame\n",
      "\n",
      "See the caveats in the documentation: https://pandas.pydata.org/pandas-docs/stable/user_guide/indexing.html#returning-a-view-versus-a-copy\n",
      "  return super().drop(\n"
     ]
    }
   ],
   "source": [
    "continuous_df.drop(['monthly_premium_auto'], axis=1, inplace=True)"
   ]
  },
  {
   "cell_type": "markdown",
   "id": "16cab0eb",
   "metadata": {},
   "source": [
    "8. Check nan values per column."
   ]
  },
  {
   "cell_type": "code",
   "execution_count": 531,
   "id": "adfd81d2",
   "metadata": {},
   "outputs": [
    {
     "data": {
      "text/plain": [
       "number_of_open_complaints    0\n",
       "number_of_policies           0\n",
       "dtype: int64"
      ]
     },
     "execution_count": 531,
     "metadata": {},
     "output_type": "execute_result"
    }
   ],
   "source": [
    "discrete_df.isna().sum()"
   ]
  },
  {
   "cell_type": "code",
   "execution_count": 532,
   "id": "01b12d9e",
   "metadata": {},
   "outputs": [
    {
     "data": {
      "text/plain": [
       "income                           0\n",
       "months_since_last_claim          0\n",
       "months_since_policy_inception    0\n",
       "total_claim_amount               0\n",
       "log_customer_lifetime_value      0\n",
       "log_monthly_premium_auto         0\n",
       "dtype: int64"
      ]
     },
     "execution_count": 532,
     "metadata": {},
     "output_type": "execute_result"
    }
   ],
   "source": [
    "continuous_df.isna().sum()"
   ]
  },
  {
   "cell_type": "code",
   "execution_count": 541,
   "id": "8456214d",
   "metadata": {},
   "outputs": [
    {
     "data": {
      "text/plain": [
       "state               0\n",
       "response            0\n",
       "coverage            0\n",
       "education           0\n",
       "employmentstatus    0\n",
       "gender              0\n",
       "location_code       0\n",
       "marital_status      0\n",
       "policy_type         0\n",
       "policy              0\n",
       "renew_offer_type    0\n",
       "sales_channel       0\n",
       "vehicle_class       0\n",
       "vehicle_size        0\n",
       "dtype: int64"
      ]
     },
     "execution_count": 541,
     "metadata": {},
     "output_type": "execute_result"
    }
   ],
   "source": [
    "categorical.isna().sum()"
   ]
  },
  {
   "cell_type": "markdown",
   "id": "bcf169c7",
   "metadata": {},
   "source": [
    "9. Define a function that differentiate between continuous and discrete variables. Hint: Number of unique values might be useful. Store continuous data into a continuous variable and do the same for discrete and categorical.\n",
    "\n",
    "See #7 in part 1 of lab."
   ]
  },
  {
   "cell_type": "markdown",
   "id": "aaf9b46b",
   "metadata": {},
   "source": [
    "10. for the categorical data, check if there is some kind of text in a variable so we would need to clean it. Hint: Use the same method you used in step 7. Depending on the implementation, decide what to do with the variables you get.\n",
    "\n",
    "See #8 in part1 of lab."
   ]
  },
  {
   "cell_type": "markdown",
   "id": "ba72eb14",
   "metadata": {},
   "source": [
    "11. Get categorical features.\n",
    "\n",
    "See #9 in part 1 of lab."
   ]
  },
  {
   "cell_type": "markdown",
   "id": "38316c8b",
   "metadata": {},
   "source": [
    "12. What should we do with the customer id column?\n",
    "\n",
    "See #10 in part 1 of lab."
   ]
  },
  {
   "cell_type": "code",
   "execution_count": null,
   "id": "0e118cd2",
   "metadata": {},
   "outputs": [],
   "source": []
  },
  {
   "cell_type": "markdown",
   "id": "2c641b34",
   "metadata": {},
   "source": [
    "## Feature Extraction"
   ]
  },
  {
   "cell_type": "markdown",
   "id": "785dbe03",
   "metadata": {},
   "source": [
    "1. Open the categoricals variable we created before."
   ]
  },
  {
   "cell_type": "code",
   "execution_count": 542,
   "id": "381008e9",
   "metadata": {},
   "outputs": [
    {
     "data": {
      "text/html": [
       "<div>\n",
       "<style scoped>\n",
       "    .dataframe tbody tr th:only-of-type {\n",
       "        vertical-align: middle;\n",
       "    }\n",
       "\n",
       "    .dataframe tbody tr th {\n",
       "        vertical-align: top;\n",
       "    }\n",
       "\n",
       "    .dataframe thead th {\n",
       "        text-align: right;\n",
       "    }\n",
       "</style>\n",
       "<table border=\"1\" class=\"dataframe\">\n",
       "  <thead>\n",
       "    <tr style=\"text-align: right;\">\n",
       "      <th></th>\n",
       "      <th>state</th>\n",
       "      <th>response</th>\n",
       "      <th>coverage</th>\n",
       "      <th>education</th>\n",
       "      <th>employmentstatus</th>\n",
       "      <th>gender</th>\n",
       "      <th>location_code</th>\n",
       "      <th>marital_status</th>\n",
       "      <th>policy_type</th>\n",
       "      <th>policy</th>\n",
       "      <th>renew_offer_type</th>\n",
       "      <th>sales_channel</th>\n",
       "      <th>vehicle_class</th>\n",
       "      <th>vehicle_size</th>\n",
       "    </tr>\n",
       "  </thead>\n",
       "  <tbody>\n",
       "    <tr>\n",
       "      <th>0</th>\n",
       "      <td>Washington</td>\n",
       "      <td>No</td>\n",
       "      <td>Basic</td>\n",
       "      <td>Bachelor</td>\n",
       "      <td>Employed</td>\n",
       "      <td>F</td>\n",
       "      <td>Suburban</td>\n",
       "      <td>Married</td>\n",
       "      <td>Corporate Auto</td>\n",
       "      <td>Corporate L3</td>\n",
       "      <td>Offer1</td>\n",
       "      <td>Agent</td>\n",
       "      <td>Two-Door Car</td>\n",
       "      <td>Medsize</td>\n",
       "    </tr>\n",
       "    <tr>\n",
       "      <th>1</th>\n",
       "      <td>Arizona</td>\n",
       "      <td>No</td>\n",
       "      <td>Extended</td>\n",
       "      <td>Bachelor</td>\n",
       "      <td>Unemployed</td>\n",
       "      <td>F</td>\n",
       "      <td>Suburban</td>\n",
       "      <td>Single</td>\n",
       "      <td>Personal Auto</td>\n",
       "      <td>Personal L3</td>\n",
       "      <td>Offer3</td>\n",
       "      <td>Agent</td>\n",
       "      <td>Four-Door Car</td>\n",
       "      <td>Medsize</td>\n",
       "    </tr>\n",
       "    <tr>\n",
       "      <th>2</th>\n",
       "      <td>Nevada</td>\n",
       "      <td>No</td>\n",
       "      <td>Premium</td>\n",
       "      <td>Bachelor</td>\n",
       "      <td>Employed</td>\n",
       "      <td>F</td>\n",
       "      <td>Suburban</td>\n",
       "      <td>Married</td>\n",
       "      <td>Personal Auto</td>\n",
       "      <td>Personal L3</td>\n",
       "      <td>Offer1</td>\n",
       "      <td>Agent</td>\n",
       "      <td>Two-Door Car</td>\n",
       "      <td>Medsize</td>\n",
       "    </tr>\n",
       "    <tr>\n",
       "      <th>3</th>\n",
       "      <td>California</td>\n",
       "      <td>No</td>\n",
       "      <td>Basic</td>\n",
       "      <td>Bachelor</td>\n",
       "      <td>Unemployed</td>\n",
       "      <td>M</td>\n",
       "      <td>Suburban</td>\n",
       "      <td>Married</td>\n",
       "      <td>Corporate Auto</td>\n",
       "      <td>Corporate L2</td>\n",
       "      <td>Offer1</td>\n",
       "      <td>Call Center</td>\n",
       "      <td>SUV</td>\n",
       "      <td>Medsize</td>\n",
       "    </tr>\n",
       "    <tr>\n",
       "      <th>4</th>\n",
       "      <td>Washington</td>\n",
       "      <td>No</td>\n",
       "      <td>Basic</td>\n",
       "      <td>Bachelor</td>\n",
       "      <td>Employed</td>\n",
       "      <td>M</td>\n",
       "      <td>Rural</td>\n",
       "      <td>Single</td>\n",
       "      <td>Personal Auto</td>\n",
       "      <td>Personal L1</td>\n",
       "      <td>Offer1</td>\n",
       "      <td>Agent</td>\n",
       "      <td>Four-Door Car</td>\n",
       "      <td>Medsize</td>\n",
       "    </tr>\n",
       "  </tbody>\n",
       "</table>\n",
       "</div>"
      ],
      "text/plain": [
       "        state response  coverage education employmentstatus gender  \\\n",
       "0  Washington       No     Basic  Bachelor         Employed      F   \n",
       "1     Arizona       No  Extended  Bachelor       Unemployed      F   \n",
       "2      Nevada       No   Premium  Bachelor         Employed      F   \n",
       "3  California       No     Basic  Bachelor       Unemployed      M   \n",
       "4  Washington       No     Basic  Bachelor         Employed      M   \n",
       "\n",
       "  location_code marital_status     policy_type        policy renew_offer_type  \\\n",
       "0      Suburban        Married  Corporate Auto  Corporate L3           Offer1   \n",
       "1      Suburban         Single   Personal Auto   Personal L3           Offer3   \n",
       "2      Suburban        Married   Personal Auto   Personal L3           Offer1   \n",
       "3      Suburban        Married  Corporate Auto  Corporate L2           Offer1   \n",
       "4         Rural         Single   Personal Auto   Personal L1           Offer1   \n",
       "\n",
       "  sales_channel  vehicle_class vehicle_size  \n",
       "0         Agent   Two-Door Car      Medsize  \n",
       "1         Agent  Four-Door Car      Medsize  \n",
       "2         Agent   Two-Door Car      Medsize  \n",
       "3   Call Center            SUV      Medsize  \n",
       "4         Agent  Four-Door Car      Medsize  "
      ]
     },
     "execution_count": 542,
     "metadata": {},
     "output_type": "execute_result"
    }
   ],
   "source": [
    "categorical.head()"
   ]
  },
  {
   "cell_type": "markdown",
   "id": "0c78cf43",
   "metadata": {},
   "source": [
    "2. Plot all the categorical variables with the proper plot. What can you see?"
   ]
  },
  {
   "cell_type": "code",
   "execution_count": 543,
   "id": "cc42fbb9",
   "metadata": {},
   "outputs": [
    {
     "data": {
      "image/png": "[encoded data removed]",
      "text/plain": [
       "<Figure size 432x288 with 1 Axes>"
      ]
     },
     "metadata": {
      "needs_background": "light"
     },
     "output_type": "display_data"
    },
    {
     "data": {
      "image/png": "[encoded data removed]",
      "text/plain": [
       "<Figure size 432x288 with 1 Axes>"
      ]
     },
     "metadata": {
      "needs_background": "light"
     },
     "output_type": "display_data"
    },
    {
     "data": {
      "image/png": "[encoded data removed]",
      "text/plain": [
       "<Figure size 432x288 with 1 Axes>"
      ]
     },
     "metadata": {
      "needs_background": "light"
     },
     "output_type": "display_data"
    },
    {
     "data": {
      "image/png": "[encoded data removed]",
      "text/plain": [
       "<Figure size 432x288 with 1 Axes>"
      ]
     },
     "metadata": {
      "needs_background": "light"
     },
     "output_type": "display_data"
    },
    {
     "data": {
      "image/png": "[encoded data removed]",
      "text/plain": [
       "<Figure size 432x288 with 1 Axes>"
      ]
     },
     "metadata": {
      "needs_background": "light"
     },
     "output_type": "display_data"
    },
    {
     "data": {
      "image/png": "[encoded data removed]",
      "text/plain": [
       "<Figure size 432x288 with 1 Axes>"
      ]
     },
     "metadata": {
      "needs_background": "light"
     },
     "output_type": "display_data"
    },
    {
     "data": {
      "image/png": "[encoded data removed]",
      "text/plain": [
       "<Figure size 432x288 with 1 Axes>"
      ]
     },
     "metadata": {
      "needs_background": "light"
     },
     "output_type": "display_data"
    },
    {
     "data": {
      "image/png": "[encoded data removed]",
      "text/plain": [
       "<Figure size 432x288 with 1 Axes>"
      ]
     },
     "metadata": {
      "needs_background": "light"
     },
     "output_type": "display_data"
    },
    {
     "data": {
      "image/png": "[encoded data removed]",
      "text/plain": [
       "<Figure size 432x288 with 1 Axes>"
      ]
     },
     "metadata": {
      "needs_background": "light"
     },
     "output_type": "display_data"
    },
    {
     "data": {
      "image/png": "[encoded data removed]",
      "text/plain": [
       "<Figure size 432x288 with 1 Axes>"
      ]
     },
     "metadata": {
      "needs_background": "light"
     },
     "output_type": "display_data"
    },
    {
     "data": {
      "image/png": "[encoded data removed]",
      "text/plain": [
       "<Figure size 432x288 with 1 Axes>"
      ]
     },
     "metadata": {
      "needs_background": "light"
     },
     "output_type": "display_data"
    },
    {
     "data": {
      "image/png": "[encoded data removed]",
      "text/plain": [
       "<Figure size 432x288 with 1 Axes>"
      ]
     },
     "metadata": {
      "needs_background": "light"
     },
     "output_type": "display_data"
    },
    {
     "data": {
      "image/png": "[encoded data removed]",
      "text/plain": [
       "<Figure size 432x288 with 1 Axes>"
      ]
     },
     "metadata": {
      "needs_background": "light"
     },
     "output_type": "display_data"
    },
    {
     "data": {
      "image/png": "[encoded data removed]",
      "text/plain": [
       "<Figure size 432x288 with 1 Axes>"
      ]
     },
     "metadata": {
      "needs_background": "light"
     },
     "output_type": "display_data"
    }
   ],
   "source": [
    "sns.countplot(x=categorical['state'])\n",
    "plt.show()\n",
    "sns.countplot(x=categorical['response'])\n",
    "plt.show()\n",
    "sns.countplot(x=categorical['coverage'])\n",
    "plt.show()\n",
    "sns.countplot(x=categorical['education'])\n",
    "plt.show()\n",
    "sns.countplot(x=categorical['employmentstatus'])\n",
    "plt.show()\n",
    "sns.countplot(x=categorical['gender'])\n",
    "plt.show()\n",
    "sns.countplot(x=categorical['location_code'])\n",
    "plt.show()\n",
    "sns.countplot(x=categorical['marital_status'])\n",
    "plt.show()\n",
    "sns.countplot(x=categorical['policy_type'])\n",
    "plt.show()\n",
    "sns.countplot(x=categorical['policy'])\n",
    "plt.show()\n",
    "sns.countplot(x=categorical['renew_offer_type'])\n",
    "plt.show()\n",
    "sns.countplot(x=categorical['sales_channel'])\n",
    "plt.show()\n",
    "sns.countplot(x=categorical['vehicle_class'])\n",
    "plt.show()\n",
    "sns.countplot(x=categorical['vehicle_size'])\n",
    "plt.show()"
   ]
  },
  {
   "cell_type": "markdown",
   "id": "9f998a38",
   "metadata": {},
   "source": [
    "3. There might be some columns that seem to be redundant, check their values to be sure. What should we do with them?"
   ]
  },
  {
   "cell_type": "code",
   "execution_count": 544,
   "id": "84938a2a",
   "metadata": {},
   "outputs": [
    {
     "data": {
      "text/html": [
       "<div>\n",
       "<style scoped>\n",
       "    .dataframe tbody tr th:only-of-type {\n",
       "        vertical-align: middle;\n",
       "    }\n",
       "\n",
       "    .dataframe tbody tr th {\n",
       "        vertical-align: top;\n",
       "    }\n",
       "\n",
       "    .dataframe thead th {\n",
       "        text-align: right;\n",
       "    }\n",
       "</style>\n",
       "<table border=\"1\" class=\"dataframe\">\n",
       "  <thead>\n",
       "    <tr style=\"text-align: right;\">\n",
       "      <th>policy_type</th>\n",
       "      <th>Corporate Auto</th>\n",
       "      <th>Personal Auto</th>\n",
       "      <th>Special Auto</th>\n",
       "    </tr>\n",
       "    <tr>\n",
       "      <th>policy</th>\n",
       "      <th></th>\n",
       "      <th></th>\n",
       "      <th></th>\n",
       "    </tr>\n",
       "  </thead>\n",
       "  <tbody>\n",
       "    <tr>\n",
       "      <th>Corporate L1</th>\n",
       "      <td>359</td>\n",
       "      <td>0</td>\n",
       "      <td>0</td>\n",
       "    </tr>\n",
       "    <tr>\n",
       "      <th>Corporate L2</th>\n",
       "      <td>595</td>\n",
       "      <td>0</td>\n",
       "      <td>0</td>\n",
       "    </tr>\n",
       "    <tr>\n",
       "      <th>Corporate L3</th>\n",
       "      <td>1014</td>\n",
       "      <td>0</td>\n",
       "      <td>0</td>\n",
       "    </tr>\n",
       "    <tr>\n",
       "      <th>Personal L1</th>\n",
       "      <td>0</td>\n",
       "      <td>1240</td>\n",
       "      <td>0</td>\n",
       "    </tr>\n",
       "    <tr>\n",
       "      <th>Personal L2</th>\n",
       "      <td>0</td>\n",
       "      <td>2122</td>\n",
       "      <td>0</td>\n",
       "    </tr>\n",
       "    <tr>\n",
       "      <th>Personal L3</th>\n",
       "      <td>0</td>\n",
       "      <td>3426</td>\n",
       "      <td>0</td>\n",
       "    </tr>\n",
       "    <tr>\n",
       "      <th>Special L1</th>\n",
       "      <td>0</td>\n",
       "      <td>0</td>\n",
       "      <td>66</td>\n",
       "    </tr>\n",
       "    <tr>\n",
       "      <th>Special L2</th>\n",
       "      <td>0</td>\n",
       "      <td>0</td>\n",
       "      <td>164</td>\n",
       "    </tr>\n",
       "    <tr>\n",
       "      <th>Special L3</th>\n",
       "      <td>0</td>\n",
       "      <td>0</td>\n",
       "      <td>148</td>\n",
       "    </tr>\n",
       "  </tbody>\n",
       "</table>\n",
       "</div>"
      ],
      "text/plain": [
       "policy_type   Corporate Auto  Personal Auto  Special Auto\n",
       "policy                                                   \n",
       "Corporate L1             359              0             0\n",
       "Corporate L2             595              0             0\n",
       "Corporate L3            1014              0             0\n",
       "Personal L1                0           1240             0\n",
       "Personal L2                0           2122             0\n",
       "Personal L3                0           3426             0\n",
       "Special L1                 0              0            66\n",
       "Special L2                 0              0           164\n",
       "Special L3                 0              0           148"
      ]
     },
     "execution_count": 544,
     "metadata": {},
     "output_type": "execute_result"
    }
   ],
   "source": [
    "# policy vs policy_type\n",
    "crosstab = pd.crosstab(categorical['policy'], categorical['policy_type'], margins = False)\n",
    "crosstab"
   ]
  },
  {
   "cell_type": "markdown",
   "id": "23138e1d",
   "metadata": {},
   "source": [
    "Policy_type info is repeated in the policy column. One of those features can be dropped."
   ]
  },
  {
   "cell_type": "code",
   "execution_count": 545,
   "id": "f72cb1f7",
   "metadata": {},
   "outputs": [
    {
     "name": "stderr",
     "output_type": "stream",
     "text": [
      "/usr/local/lib/python3.9/site-packages/pandas/core/frame.py:4901: SettingWithCopyWarning: \n",
      "A value is trying to be set on a copy of a slice from a DataFrame\n",
      "\n",
      "See the caveats in the documentation: https://pandas.pydata.org/pandas-docs/stable/user_guide/indexing.html#returning-a-view-versus-a-copy\n",
      "  return super().drop(\n"
     ]
    }
   ],
   "source": [
    "categorical.drop(['policy_type'], axis=1, inplace=True)"
   ]
  },
  {
   "cell_type": "markdown",
   "id": "e76e99fe",
   "metadata": {},
   "source": [
    "4. Plot time variable. Can you extract something from it?"
   ]
  },
  {
   "cell_type": "code",
   "execution_count": 548,
   "id": "e9f1e4a3",
   "metadata": {},
   "outputs": [
    {
     "data": {
      "image/png": "[encoded data removed]",
      "text/plain": [
       "<Figure size 432x288 with 1 Axes>"
      ]
     },
     "metadata": {
      "needs_background": "light"
     },
     "output_type": "display_data"
    }
   ],
   "source": [
    "sns.countplot(x=customer_df['effective_to_date'])\n",
    "plt.show()"
   ]
  },
  {
   "cell_type": "code",
   "execution_count": 250,
   "id": "a87b6b73",
   "metadata": {},
   "outputs": [
    {
     "data": {
      "text/plain": [
       "2011-01-10    195\n",
       "2011-01-27    194\n",
       "2011-02-14    186\n",
       "2011-01-26    181\n",
       "2011-01-17    180\n",
       "2011-01-19    179\n",
       "2011-01-31    178\n",
       "2011-01-03    178\n",
       "2011-01-20    173\n",
       "2011-02-26    169\n",
       "2011-01-28    169\n",
       "2011-02-19    168\n",
       "2011-01-05    167\n",
       "2011-02-27    167\n",
       "2011-01-11    166\n",
       "2011-02-04    164\n",
       "2011-02-10    161\n",
       "2011-02-28    161\n",
       "2011-01-02    160\n",
       "2011-01-21    160\n",
       "2011-01-29    160\n",
       "2011-02-22    158\n",
       "2011-02-05    158\n",
       "2011-02-03    158\n",
       "2011-02-07    157\n",
       "2011-02-12    156\n",
       "2011-01-23    155\n",
       "2011-02-01    154\n",
       "2011-01-18    154\n",
       "2011-01-15    153\n",
       "2011-01-14    152\n",
       "2011-02-11    151\n",
       "2011-01-07    151\n",
       "2011-01-25    151\n",
       "2011-02-25    149\n",
       "2011-01-08    149\n",
       "2011-02-18    149\n",
       "2011-02-02    149\n",
       "2011-01-01    148\n",
       "2011-02-21    148\n",
       "2011-01-24    147\n",
       "2011-01-09    146\n",
       "2011-01-30    145\n",
       "2011-01-13    145\n",
       "2011-02-06    144\n",
       "2011-01-06    143\n",
       "2011-02-23    143\n",
       "2011-01-16    142\n",
       "2011-02-16    139\n",
       "2011-02-13    139\n",
       "2011-02-24    139\n",
       "2011-02-09    137\n",
       "2011-02-17    136\n",
       "2011-01-22    136\n",
       "2011-02-08    134\n",
       "2011-02-20    132\n",
       "2011-02-15    130\n",
       "2011-01-12    126\n",
       "2011-01-04    115\n",
       "Name: effective_to_date, dtype: int64"
      ]
     },
     "execution_count": 250,
     "metadata": {},
     "output_type": "execute_result"
    }
   ],
   "source": [
    "discrete_df['effective_to_date'].nunique()  #59 different values\n",
    "discrete_df['effective_to_date'].value_counts()"
   ]
  },
  {
   "cell_type": "markdown",
   "id": "98adf1cb",
   "metadata": {},
   "source": [
    "There are 59 different values for the feature 'effective_to_date'. It would be a good idea to group them into smaller categories, maybe by month instead?"
   ]
  },
  {
   "cell_type": "code",
   "execution_count": null,
   "id": "2fa84a74",
   "metadata": {},
   "outputs": [],
   "source": []
  },
  {
   "cell_type": "markdown",
   "id": "8824e72c",
   "metadata": {},
   "source": [
    "## Data cleaning and wrangling"
   ]
  },
  {
   "cell_type": "markdown",
   "id": "af6ea6bc",
   "metadata": {},
   "source": [
    "1. We will start with removing outliers. So far, we have discussed different methods to remove outliers. Use the one you feel more comfortable with, define a function for that. Use the function to remove the outliers and apply it to the dataframe.\n"
   ]
  },
  {
   "cell_type": "markdown",
   "id": "1d7c09c8",
   "metadata": {},
   "source": [
    "Outliers were already removed in #7 of Part 2. But see below for an example of a function that could be used "
   ]
  },
  {
   "cell_type": "code",
   "execution_count": 440,
   "id": "e26c546f",
   "metadata": {},
   "outputs": [],
   "source": [
    "def remove_outliers(df):\n",
    "    for column in list(df.columns):\n",
    "        iqr = np.percentile(df[column],75) - np.percentile(df[column],25)\n",
    "        upper_limit = np.percentile(df[column],75) + 1.5*iqr\n",
    "        lower_limit = np.percentile(df[column],25) - 1.5*iqr\n",
    "        extraordinary_points = df[(df[column] > upper_limit) | (df[column] < lower_limit)]\n",
    "        df = df[(df[column] <= upper_limit) & (df[column] >= lower_limit)]\n",
    "    return df\n",
    "        "
   ]
  },
  {
   "cell_type": "markdown",
   "id": "2a124261",
   "metadata": {},
   "source": [
    "2. Create a copy of the dataframe for the data wrangling."
   ]
  },
  {
   "cell_type": "code",
   "execution_count": 562,
   "id": "81672098",
   "metadata": {},
   "outputs": [],
   "source": [
    "cat = categorical.copy()\n",
    "con = continuous_df.copy()\n",
    "dis = discrete_df.copy()"
   ]
  },
  {
   "cell_type": "markdown",
   "id": "93dff450",
   "metadata": {},
   "source": [
    "3. Normalize the continuous variables. You can use any one method you want."
   ]
  },
  {
   "cell_type": "code",
   "execution_count": 563,
   "id": "77e9424e",
   "metadata": {},
   "outputs": [],
   "source": [
    "y = con.total_claim_amount\n",
    "con.drop(['total_claim_amount'], axis=1, inplace=True)"
   ]
  },
  {
   "cell_type": "code",
   "execution_count": 551,
   "id": "1ce8d953",
   "metadata": {},
   "outputs": [
    {
     "data": {
      "text/html": [
       "<div>\n",
       "<style scoped>\n",
       "    .dataframe tbody tr th:only-of-type {\n",
       "        vertical-align: middle;\n",
       "    }\n",
       "\n",
       "    .dataframe tbody tr th {\n",
       "        vertical-align: top;\n",
       "    }\n",
       "\n",
       "    .dataframe thead th {\n",
       "        text-align: right;\n",
       "    }\n",
       "</style>\n",
       "<table border=\"1\" class=\"dataframe\">\n",
       "  <thead>\n",
       "    <tr style=\"text-align: right;\">\n",
       "      <th></th>\n",
       "      <th>income</th>\n",
       "      <th>months_since_last_claim</th>\n",
       "      <th>months_since_policy_inception</th>\n",
       "      <th>log_customer_lifetime_value</th>\n",
       "      <th>log_monthly_premium_auto</th>\n",
       "    </tr>\n",
       "  </thead>\n",
       "  <tbody>\n",
       "    <tr>\n",
       "      <th>0</th>\n",
       "      <td>56274</td>\n",
       "      <td>32</td>\n",
       "      <td>5</td>\n",
       "      <td>7.924260</td>\n",
       "      <td>4.234107</td>\n",
       "    </tr>\n",
       "    <tr>\n",
       "      <th>1</th>\n",
       "      <td>0</td>\n",
       "      <td>13</td>\n",
       "      <td>42</td>\n",
       "      <td>8.850738</td>\n",
       "      <td>4.543295</td>\n",
       "    </tr>\n",
       "    <tr>\n",
       "      <th>2</th>\n",
       "      <td>48767</td>\n",
       "      <td>18</td>\n",
       "      <td>38</td>\n",
       "      <td>9.464008</td>\n",
       "      <td>4.682131</td>\n",
       "    </tr>\n",
       "    <tr>\n",
       "      <th>3</th>\n",
       "      <td>0</td>\n",
       "      <td>18</td>\n",
       "      <td>65</td>\n",
       "      <td>8.941920</td>\n",
       "      <td>4.663439</td>\n",
       "    </tr>\n",
       "    <tr>\n",
       "      <th>4</th>\n",
       "      <td>43836</td>\n",
       "      <td>12</td>\n",
       "      <td>44</td>\n",
       "      <td>7.942253</td>\n",
       "      <td>4.290459</td>\n",
       "    </tr>\n",
       "    <tr>\n",
       "      <th>...</th>\n",
       "      <td>...</td>\n",
       "      <td>...</td>\n",
       "      <td>...</td>\n",
       "      <td>...</td>\n",
       "      <td>...</td>\n",
       "    </tr>\n",
       "    <tr>\n",
       "      <th>9129</th>\n",
       "      <td>71941</td>\n",
       "      <td>18</td>\n",
       "      <td>89</td>\n",
       "      <td>10.060747</td>\n",
       "      <td>4.290459</td>\n",
       "    </tr>\n",
       "    <tr>\n",
       "      <th>9130</th>\n",
       "      <td>21604</td>\n",
       "      <td>14</td>\n",
       "      <td>28</td>\n",
       "      <td>8.038031</td>\n",
       "      <td>4.369448</td>\n",
       "    </tr>\n",
       "    <tr>\n",
       "      <th>9131</th>\n",
       "      <td>0</td>\n",
       "      <td>9</td>\n",
       "      <td>37</td>\n",
       "      <td>9.007476</td>\n",
       "      <td>4.442651</td>\n",
       "    </tr>\n",
       "    <tr>\n",
       "      <th>9132</th>\n",
       "      <td>21941</td>\n",
       "      <td>34</td>\n",
       "      <td>3</td>\n",
       "      <td>8.925912</td>\n",
       "      <td>4.564348</td>\n",
       "    </tr>\n",
       "    <tr>\n",
       "      <th>9133</th>\n",
       "      <td>0</td>\n",
       "      <td>3</td>\n",
       "      <td>90</td>\n",
       "      <td>7.867809</td>\n",
       "      <td>4.343805</td>\n",
       "    </tr>\n",
       "  </tbody>\n",
       "</table>\n",
       "<p>8850 rows × 5 columns</p>\n",
       "</div>"
      ],
      "text/plain": [
       "      income  months_since_last_claim  months_since_policy_inception  \\\n",
       "0      56274                       32                              5   \n",
       "1          0                       13                             42   \n",
       "2      48767                       18                             38   \n",
       "3          0                       18                             65   \n",
       "4      43836                       12                             44   \n",
       "...      ...                      ...                            ...   \n",
       "9129   71941                       18                             89   \n",
       "9130   21604                       14                             28   \n",
       "9131       0                        9                             37   \n",
       "9132   21941                       34                              3   \n",
       "9133       0                        3                             90   \n",
       "\n",
       "      log_customer_lifetime_value  log_monthly_premium_auto  \n",
       "0                        7.924260                  4.234107  \n",
       "1                        8.850738                  4.543295  \n",
       "2                        9.464008                  4.682131  \n",
       "3                        8.941920                  4.663439  \n",
       "4                        7.942253                  4.290459  \n",
       "...                           ...                       ...  \n",
       "9129                    10.060747                  4.290459  \n",
       "9130                     8.038031                  4.369448  \n",
       "9131                     9.007476                  4.442651  \n",
       "9132                     8.925912                  4.564348  \n",
       "9133                     7.867809                  4.343805  \n",
       "\n",
       "[8850 rows x 5 columns]"
      ]
     },
     "execution_count": 551,
     "metadata": {},
     "output_type": "execute_result"
    }
   ],
   "source": [
    "con"
   ]
  },
  {
   "cell_type": "code",
   "execution_count": 564,
   "id": "ddf05b45",
   "metadata": {},
   "outputs": [],
   "source": [
    "#using MinMaxScales\n",
    "from sklearn.preprocessing import MinMaxScaler\n",
    "transformer = MinMaxScaler().fit(con)\n",
    "#con_normalized = transformer.transform(con)\n",
    "con_normalized = pd.DataFrame(transformer.transform(con), columns=con.columns)\n"
   ]
  },
  {
   "cell_type": "code",
   "execution_count": 553,
   "id": "58e3c21c",
   "metadata": {},
   "outputs": [
    {
     "data": {
      "text/html": [
       "<div>\n",
       "<style scoped>\n",
       "    .dataframe tbody tr th:only-of-type {\n",
       "        vertical-align: middle;\n",
       "    }\n",
       "\n",
       "    .dataframe tbody tr th {\n",
       "        vertical-align: top;\n",
       "    }\n",
       "\n",
       "    .dataframe thead th {\n",
       "        text-align: right;\n",
       "    }\n",
       "</style>\n",
       "<table border=\"1\" class=\"dataframe\">\n",
       "  <thead>\n",
       "    <tr style=\"text-align: right;\">\n",
       "      <th></th>\n",
       "      <th>income</th>\n",
       "      <th>months_since_last_claim</th>\n",
       "      <th>months_since_policy_inception</th>\n",
       "      <th>log_customer_lifetime_value</th>\n",
       "      <th>log_monthly_premium_auto</th>\n",
       "    </tr>\n",
       "  </thead>\n",
       "  <tbody>\n",
       "    <tr>\n",
       "      <th>0</th>\n",
       "      <td>0.562847</td>\n",
       "      <td>0.914286</td>\n",
       "      <td>0.050505</td>\n",
       "      <td>0.135910</td>\n",
       "      <td>0.097463</td>\n",
       "    </tr>\n",
       "    <tr>\n",
       "      <th>1</th>\n",
       "      <td>0.000000</td>\n",
       "      <td>0.371429</td>\n",
       "      <td>0.424242</td>\n",
       "      <td>0.471063</td>\n",
       "      <td>0.341996</td>\n",
       "    </tr>\n",
       "    <tr>\n",
       "      <th>2</th>\n",
       "      <td>0.487763</td>\n",
       "      <td>0.514286</td>\n",
       "      <td>0.383838</td>\n",
       "      <td>0.692913</td>\n",
       "      <td>0.451800</td>\n",
       "    </tr>\n",
       "    <tr>\n",
       "      <th>3</th>\n",
       "      <td>0.000000</td>\n",
       "      <td>0.514286</td>\n",
       "      <td>0.656566</td>\n",
       "      <td>0.504048</td>\n",
       "      <td>0.437016</td>\n",
       "    </tr>\n",
       "    <tr>\n",
       "      <th>4</th>\n",
       "      <td>0.438443</td>\n",
       "      <td>0.342857</td>\n",
       "      <td>0.444444</td>\n",
       "      <td>0.142418</td>\n",
       "      <td>0.142032</td>\n",
       "    </tr>\n",
       "    <tr>\n",
       "      <th>...</th>\n",
       "      <td>...</td>\n",
       "      <td>...</td>\n",
       "      <td>...</td>\n",
       "      <td>...</td>\n",
       "      <td>...</td>\n",
       "    </tr>\n",
       "    <tr>\n",
       "      <th>8845</th>\n",
       "      <td>0.719547</td>\n",
       "      <td>0.514286</td>\n",
       "      <td>0.898990</td>\n",
       "      <td>0.908784</td>\n",
       "      <td>0.142032</td>\n",
       "    </tr>\n",
       "    <tr>\n",
       "      <th>8846</th>\n",
       "      <td>0.216081</td>\n",
       "      <td>0.400000</td>\n",
       "      <td>0.282828</td>\n",
       "      <td>0.177066</td>\n",
       "      <td>0.204503</td>\n",
       "    </tr>\n",
       "    <tr>\n",
       "      <th>8847</th>\n",
       "      <td>0.000000</td>\n",
       "      <td>0.257143</td>\n",
       "      <td>0.373737</td>\n",
       "      <td>0.527763</td>\n",
       "      <td>0.262398</td>\n",
       "    </tr>\n",
       "    <tr>\n",
       "      <th>8848</th>\n",
       "      <td>0.219452</td>\n",
       "      <td>0.971429</td>\n",
       "      <td>0.030303</td>\n",
       "      <td>0.498257</td>\n",
       "      <td>0.358647</td>\n",
       "    </tr>\n",
       "    <tr>\n",
       "      <th>8849</th>\n",
       "      <td>0.000000</td>\n",
       "      <td>0.085714</td>\n",
       "      <td>0.909091</td>\n",
       "      <td>0.115488</td>\n",
       "      <td>0.184222</td>\n",
       "    </tr>\n",
       "  </tbody>\n",
       "</table>\n",
       "<p>8850 rows × 5 columns</p>\n",
       "</div>"
      ],
      "text/plain": [
       "        income  months_since_last_claim  months_since_policy_inception  \\\n",
       "0     0.562847                 0.914286                       0.050505   \n",
       "1     0.000000                 0.371429                       0.424242   \n",
       "2     0.487763                 0.514286                       0.383838   \n",
       "3     0.000000                 0.514286                       0.656566   \n",
       "4     0.438443                 0.342857                       0.444444   \n",
       "...        ...                      ...                            ...   \n",
       "8845  0.719547                 0.514286                       0.898990   \n",
       "8846  0.216081                 0.400000                       0.282828   \n",
       "8847  0.000000                 0.257143                       0.373737   \n",
       "8848  0.219452                 0.971429                       0.030303   \n",
       "8849  0.000000                 0.085714                       0.909091   \n",
       "\n",
       "      log_customer_lifetime_value  log_monthly_premium_auto  \n",
       "0                        0.135910                  0.097463  \n",
       "1                        0.471063                  0.341996  \n",
       "2                        0.692913                  0.451800  \n",
       "3                        0.504048                  0.437016  \n",
       "4                        0.142418                  0.142032  \n",
       "...                           ...                       ...  \n",
       "8845                     0.908784                  0.142032  \n",
       "8846                     0.177066                  0.204503  \n",
       "8847                     0.527763                  0.262398  \n",
       "8848                     0.498257                  0.358647  \n",
       "8849                     0.115488                  0.184222  \n",
       "\n",
       "[8850 rows x 5 columns]"
      ]
     },
     "execution_count": 553,
     "metadata": {},
     "output_type": "execute_result"
    }
   ],
   "source": [
    "con_normalized"
   ]
  },
  {
   "cell_type": "markdown",
   "id": "42fa9e50",
   "metadata": {},
   "source": [
    "4. Encode the categorical variables"
   ]
  },
  {
   "cell_type": "code",
   "execution_count": 554,
   "id": "f6cabe2d",
   "metadata": {},
   "outputs": [
    {
     "data": {
      "text/plain": [
       "Index(['state', 'response', 'coverage', 'education', 'employmentstatus',\n",
       "       'gender', 'location_code', 'marital_status', 'policy',\n",
       "       'renew_offer_type', 'sales_channel', 'vehicle_class', 'vehicle_size'],\n",
       "      dtype='object')"
      ]
     },
     "execution_count": 554,
     "metadata": {},
     "output_type": "execute_result"
    }
   ],
   "source": [
    "cat.columns"
   ]
  },
  {
   "cell_type": "code",
   "execution_count": null,
   "id": "cb837de0",
   "metadata": {},
   "outputs": [],
   "source": [
    "#change to 1/0: response, gender"
   ]
  },
  {
   "cell_type": "code",
   "execution_count": 565,
   "id": "45d62ea7",
   "metadata": {},
   "outputs": [],
   "source": [
    "cat.response = cat.response.map({\"Yes\" : 1, \"No\" : 0})"
   ]
  },
  {
   "cell_type": "code",
   "execution_count": 566,
   "id": "1b7aa0a0",
   "metadata": {},
   "outputs": [
    {
     "data": {
      "text/plain": [
       "0       0\n",
       "1       0\n",
       "2       0\n",
       "3       0\n",
       "4       0\n",
       "       ..\n",
       "9129    0\n",
       "9130    1\n",
       "9131    0\n",
       "9132    0\n",
       "9133    0\n",
       "Name: response, Length: 9134, dtype: int64"
      ]
     },
     "execution_count": 566,
     "metadata": {},
     "output_type": "execute_result"
    }
   ],
   "source": [
    "cat.response"
   ]
  },
  {
   "cell_type": "code",
   "execution_count": 567,
   "id": "7ece3815",
   "metadata": {},
   "outputs": [
    {
     "data": {
      "text/plain": [
       "0       1\n",
       "1       1\n",
       "2       1\n",
       "3       0\n",
       "4       0\n",
       "       ..\n",
       "9129    0\n",
       "9130    1\n",
       "9131    0\n",
       "9132    0\n",
       "9133    0\n",
       "Name: gender, Length: 9134, dtype: int64"
      ]
     },
     "execution_count": 567,
     "metadata": {},
     "output_type": "execute_result"
    }
   ],
   "source": [
    "cat.gender = cat.gender.map({\"F\" : 1, \"M\" : 0})\n",
    "cat.gender"
   ]
  },
  {
   "cell_type": "code",
   "execution_count": null,
   "id": "d76a29ac",
   "metadata": {},
   "outputs": [],
   "source": [
    "#ordinal encoding: coverage, education, location_code, vehicle_size"
   ]
  },
  {
   "cell_type": "code",
   "execution_count": 568,
   "id": "33c3ab7e",
   "metadata": {},
   "outputs": [
    {
     "data": {
      "text/plain": [
       "0       0\n",
       "1       1\n",
       "2       2\n",
       "3       0\n",
       "4       0\n",
       "       ..\n",
       "9129    0\n",
       "9130    1\n",
       "9131    1\n",
       "9132    1\n",
       "9133    1\n",
       "Name: coverage, Length: 9134, dtype: int64"
      ]
     },
     "execution_count": 568,
     "metadata": {},
     "output_type": "execute_result"
    }
   ],
   "source": [
    "cat.coverage = cat.coverage.map({\"Basic\" : 0, \"Extended\" : 1, \"Premium\" : 2})\n",
    "cat.coverage"
   ]
  },
  {
   "cell_type": "code",
   "execution_count": 570,
   "id": "fdf0c63e",
   "metadata": {},
   "outputs": [
    {
     "data": {
      "text/plain": [
       "0       2\n",
       "1       2\n",
       "2       2\n",
       "3       2\n",
       "4       2\n",
       "       ..\n",
       "9129    2\n",
       "9130    1\n",
       "9131    2\n",
       "9132    1\n",
       "9133    1\n",
       "Name: education, Length: 9134, dtype: int64"
      ]
     },
     "execution_count": 570,
     "metadata": {},
     "output_type": "execute_result"
    }
   ],
   "source": [
    "cat.education = cat.education.map({\"High School or Below\" : 0, \"College\" : 1, \"Bachelor\" : 2, \"Master\":3, \"Doctor\":4})\n",
    "cat.education"
   ]
  },
  {
   "cell_type": "code",
   "execution_count": 572,
   "id": "366a5437",
   "metadata": {},
   "outputs": [
    {
     "data": {
      "text/plain": [
       "0       1\n",
       "1       1\n",
       "2       1\n",
       "3       1\n",
       "4       0\n",
       "       ..\n",
       "9129    2\n",
       "9130    1\n",
       "9131    1\n",
       "9132    1\n",
       "9133    1\n",
       "Name: location_code, Length: 9134, dtype: int64"
      ]
     },
     "execution_count": 572,
     "metadata": {},
     "output_type": "execute_result"
    }
   ],
   "source": [
    "cat.location_code = cat.location_code.map({\"Rural\" : 0, \"Suburban\" : 1, \"Urban\" : 2})\n",
    "cat.location_code"
   ]
  },
  {
   "cell_type": "code",
   "execution_count": 574,
   "id": "e573fc92",
   "metadata": {},
   "outputs": [
    {
     "data": {
      "text/plain": [
       "0       1\n",
       "1       1\n",
       "2       1\n",
       "3       1\n",
       "4       1\n",
       "       ..\n",
       "9129    1\n",
       "9130    1\n",
       "9131    1\n",
       "9132    2\n",
       "9133    1\n",
       "Name: vehicle_size, Length: 9134, dtype: int64"
      ]
     },
     "execution_count": 574,
     "metadata": {},
     "output_type": "execute_result"
    }
   ],
   "source": [
    "cat.vehicle_size = cat.vehicle_size.map({\"Small\" : 0, \"Medsize\" : 1, \"Large\" : 2})\n",
    "cat.vehicle_size"
   ]
  },
  {
   "cell_type": "code",
   "execution_count": null,
   "id": "cb40c368",
   "metadata": {},
   "outputs": [],
   "source": [
    "#OneHot encode: state, marital_status, employmentstatus(group lowest 3 cats together?), policy, renew_offer_type, sales_channel, vehicle_class"
   ]
  },
  {
   "cell_type": "code",
   "execution_count": 578,
   "id": "8fab71e6",
   "metadata": {},
   "outputs": [],
   "source": [
    "from sklearn.preprocessing import OneHotEncoder"
   ]
  },
  {
   "cell_type": "code",
   "execution_count": 580,
   "id": "c835976a",
   "metadata": {},
   "outputs": [],
   "source": [
    "#encode state\n",
    "state = pd.DataFrame(cat['state'])\n",
    "state_encoder = OneHotEncoder().fit(state)\n",
    "encoded_state = pd.DataFrame(state_encoder.transform(state).toarray(),columns=state_encoder.categories_)\n",
    "\n",
    "encoded_state = encoded_state.drop(['California'], axis=1)\n"
   ]
  },
  {
   "cell_type": "code",
   "execution_count": 582,
   "id": "ac78573a",
   "metadata": {},
   "outputs": [],
   "source": [
    "#encode marital_status\n",
    "ms = pd.DataFrame(cat['marital_status'])\n",
    "ms_encoder = OneHotEncoder().fit(ms)\n",
    "encoded_ms = pd.DataFrame(ms_encoder.transform(ms).toarray(),columns=ms_encoder.categories_)\n",
    "\n",
    "encoded_ms = encoded_ms.drop(['Married'], axis=1)"
   ]
  },
  {
   "cell_type": "code",
   "execution_count": 584,
   "id": "40b90e92",
   "metadata": {},
   "outputs": [
    {
     "data": {
      "text/plain": [
       "0         Employed\n",
       "1       Unemployed\n",
       "2         Employed\n",
       "3       Unemployed\n",
       "4         Employed\n",
       "           ...    \n",
       "9129      Employed\n",
       "9130      Employed\n",
       "9131    Unemployed\n",
       "9132      Employed\n",
       "9133    Unemployed\n",
       "Name: employmentstatus, Length: 9134, dtype: object"
      ]
     },
     "execution_count": 584,
     "metadata": {},
     "output_type": "execute_result"
    }
   ],
   "source": [
    "#employmentstatus\n",
    "#first group 3 smallest groups together as 'Other'\n",
    "cat.employmentstatus = cat.employmentstatus.map({\"Employed\" : 'Employed', \"Unemployed\" : 'Unemployed', \"Medical Leave\" : 'Other', 'Disabled': 'Other', 'Retired': 'Other'})\n",
    "cat.employmentstatus"
   ]
  },
  {
   "cell_type": "code",
   "execution_count": 587,
   "id": "e0c4c937",
   "metadata": {},
   "outputs": [],
   "source": [
    "#then encode\n",
    "es = pd.DataFrame(cat['employmentstatus'])\n",
    "es_encoder = OneHotEncoder().fit(es)\n",
    "encoded_es = pd.DataFrame(es_encoder.transform(es).toarray(),columns=es_encoder.categories_)\n",
    "\n",
    "encoded_es = encoded_es.drop(['Employed'], axis=1)"
   ]
  },
  {
   "cell_type": "code",
   "execution_count": 589,
   "id": "b7ab16ae",
   "metadata": {},
   "outputs": [],
   "source": [
    "#policy\n",
    "pol = pd.DataFrame(cat['policy'])\n",
    "pol_encoder = OneHotEncoder().fit(pol)\n",
    "encoded_pol = pd.DataFrame(pol_encoder.transform(pol).toarray(),columns=pol_encoder.categories_)\n",
    "\n",
    "encoded_pol = encoded_pol.drop(['Personal L3'], axis=1)"
   ]
  },
  {
   "cell_type": "code",
   "execution_count": 591,
   "id": "e357a9bc",
   "metadata": {},
   "outputs": [],
   "source": [
    "#renew_offer_type\n",
    "rot = pd.DataFrame(cat['renew_offer_type'])\n",
    "rot_encoder = OneHotEncoder().fit(rot)\n",
    "encoded_rot = pd.DataFrame(rot_encoder.transform(rot).toarray(),columns=rot_encoder.categories_)\n",
    "\n",
    "encoded_rot = encoded_rot.drop(['Offer1'], axis=1)"
   ]
  },
  {
   "cell_type": "code",
   "execution_count": 594,
   "id": "53f6be0a",
   "metadata": {},
   "outputs": [],
   "source": [
    "#sales_channel\n",
    "sc = pd.DataFrame(cat['sales_channel'])\n",
    "sc_encoder = OneHotEncoder().fit(sc)\n",
    "encoded_sc = pd.DataFrame(sc_encoder.transform(sc).toarray(),columns=sc_encoder.categories_)\n",
    "\n",
    "encoded_sc = encoded_sc.drop(['Agent'], axis=1)"
   ]
  },
  {
   "cell_type": "code",
   "execution_count": 596,
   "id": "9652fe36",
   "metadata": {},
   "outputs": [],
   "source": [
    "#vehicle_class\n",
    "vc = pd.DataFrame(cat['vehicle_class'])\n",
    "vc_encoder = OneHotEncoder().fit(vc)\n",
    "encoded_vc = pd.DataFrame(vc_encoder.transform(vc).toarray(),columns=vc_encoder.categories_)\n",
    "\n",
    "encoded_vc = encoded_vc.drop(['SUV'], axis=1)"
   ]
  },
  {
   "cell_type": "code",
   "execution_count": 597,
   "id": "8935eaa3",
   "metadata": {},
   "outputs": [],
   "source": [
    "#drop all columns that from cat df that were just encoded\n",
    "cat.drop(['state', 'marital_status', 'employmentstatus', 'policy', 'renew_offer_type', 'sales_channel', 'vehicle_class'], axis=1, inplace=True)"
   ]
  },
  {
   "cell_type": "code",
   "execution_count": 599,
   "id": "6cee9f87",
   "metadata": {},
   "outputs": [],
   "source": [
    "#concat encoded columns to cat df\n",
    "cat = pd.concat([cat, encoded_state, encoded_ms, encoded_es, encoded_pol, encoded_rot, encoded_sc, encoded_vc], axis=1)"
   ]
  },
  {
   "cell_type": "code",
   "execution_count": 601,
   "id": "50683564",
   "metadata": {},
   "outputs": [
    {
     "data": {
      "text/html": [
       "<div>\n",
       "<style scoped>\n",
       "    .dataframe tbody tr th:only-of-type {\n",
       "        vertical-align: middle;\n",
       "    }\n",
       "\n",
       "    .dataframe tbody tr th {\n",
       "        vertical-align: top;\n",
       "    }\n",
       "\n",
       "    .dataframe thead th {\n",
       "        text-align: right;\n",
       "    }\n",
       "</style>\n",
       "<table border=\"1\" class=\"dataframe\">\n",
       "  <thead>\n",
       "    <tr style=\"text-align: right;\">\n",
       "      <th></th>\n",
       "      <th>response</th>\n",
       "      <th>coverage</th>\n",
       "      <th>education</th>\n",
       "      <th>gender</th>\n",
       "      <th>location_code</th>\n",
       "      <th>vehicle_size</th>\n",
       "      <th>(Arizona,)</th>\n",
       "      <th>(Nevada,)</th>\n",
       "      <th>(Oregon,)</th>\n",
       "      <th>(Washington,)</th>\n",
       "      <th>...</th>\n",
       "      <th>(Offer3,)</th>\n",
       "      <th>(Offer4,)</th>\n",
       "      <th>(Branch,)</th>\n",
       "      <th>(Call Center,)</th>\n",
       "      <th>(Web,)</th>\n",
       "      <th>(Four-Door Car,)</th>\n",
       "      <th>(Luxury Car,)</th>\n",
       "      <th>(Luxury SUV,)</th>\n",
       "      <th>(Sports Car,)</th>\n",
       "      <th>(Two-Door Car,)</th>\n",
       "    </tr>\n",
       "  </thead>\n",
       "  <tbody>\n",
       "    <tr>\n",
       "      <th>0</th>\n",
       "      <td>0</td>\n",
       "      <td>0</td>\n",
       "      <td>2</td>\n",
       "      <td>1</td>\n",
       "      <td>1</td>\n",
       "      <td>1</td>\n",
       "      <td>0.0</td>\n",
       "      <td>0.0</td>\n",
       "      <td>0.0</td>\n",
       "      <td>1.0</td>\n",
       "      <td>...</td>\n",
       "      <td>0.0</td>\n",
       "      <td>0.0</td>\n",
       "      <td>0.0</td>\n",
       "      <td>0.0</td>\n",
       "      <td>0.0</td>\n",
       "      <td>0.0</td>\n",
       "      <td>0.0</td>\n",
       "      <td>0.0</td>\n",
       "      <td>0.0</td>\n",
       "      <td>1.0</td>\n",
       "    </tr>\n",
       "    <tr>\n",
       "      <th>1</th>\n",
       "      <td>0</td>\n",
       "      <td>1</td>\n",
       "      <td>2</td>\n",
       "      <td>1</td>\n",
       "      <td>1</td>\n",
       "      <td>1</td>\n",
       "      <td>1.0</td>\n",
       "      <td>0.0</td>\n",
       "      <td>0.0</td>\n",
       "      <td>0.0</td>\n",
       "      <td>...</td>\n",
       "      <td>1.0</td>\n",
       "      <td>0.0</td>\n",
       "      <td>0.0</td>\n",
       "      <td>0.0</td>\n",
       "      <td>0.0</td>\n",
       "      <td>1.0</td>\n",
       "      <td>0.0</td>\n",
       "      <td>0.0</td>\n",
       "      <td>0.0</td>\n",
       "      <td>0.0</td>\n",
       "    </tr>\n",
       "    <tr>\n",
       "      <th>2</th>\n",
       "      <td>0</td>\n",
       "      <td>2</td>\n",
       "      <td>2</td>\n",
       "      <td>1</td>\n",
       "      <td>1</td>\n",
       "      <td>1</td>\n",
       "      <td>0.0</td>\n",
       "      <td>1.0</td>\n",
       "      <td>0.0</td>\n",
       "      <td>0.0</td>\n",
       "      <td>...</td>\n",
       "      <td>0.0</td>\n",
       "      <td>0.0</td>\n",
       "      <td>0.0</td>\n",
       "      <td>0.0</td>\n",
       "      <td>0.0</td>\n",
       "      <td>0.0</td>\n",
       "      <td>0.0</td>\n",
       "      <td>0.0</td>\n",
       "      <td>0.0</td>\n",
       "      <td>1.0</td>\n",
       "    </tr>\n",
       "    <tr>\n",
       "      <th>3</th>\n",
       "      <td>0</td>\n",
       "      <td>0</td>\n",
       "      <td>2</td>\n",
       "      <td>0</td>\n",
       "      <td>1</td>\n",
       "      <td>1</td>\n",
       "      <td>0.0</td>\n",
       "      <td>0.0</td>\n",
       "      <td>0.0</td>\n",
       "      <td>0.0</td>\n",
       "      <td>...</td>\n",
       "      <td>0.0</td>\n",
       "      <td>0.0</td>\n",
       "      <td>0.0</td>\n",
       "      <td>1.0</td>\n",
       "      <td>0.0</td>\n",
       "      <td>0.0</td>\n",
       "      <td>0.0</td>\n",
       "      <td>0.0</td>\n",
       "      <td>0.0</td>\n",
       "      <td>0.0</td>\n",
       "    </tr>\n",
       "    <tr>\n",
       "      <th>4</th>\n",
       "      <td>0</td>\n",
       "      <td>0</td>\n",
       "      <td>2</td>\n",
       "      <td>0</td>\n",
       "      <td>0</td>\n",
       "      <td>1</td>\n",
       "      <td>0.0</td>\n",
       "      <td>0.0</td>\n",
       "      <td>0.0</td>\n",
       "      <td>1.0</td>\n",
       "      <td>...</td>\n",
       "      <td>0.0</td>\n",
       "      <td>0.0</td>\n",
       "      <td>0.0</td>\n",
       "      <td>0.0</td>\n",
       "      <td>0.0</td>\n",
       "      <td>1.0</td>\n",
       "      <td>0.0</td>\n",
       "      <td>0.0</td>\n",
       "      <td>0.0</td>\n",
       "      <td>0.0</td>\n",
       "    </tr>\n",
       "    <tr>\n",
       "      <th>...</th>\n",
       "      <td>...</td>\n",
       "      <td>...</td>\n",
       "      <td>...</td>\n",
       "      <td>...</td>\n",
       "      <td>...</td>\n",
       "      <td>...</td>\n",
       "      <td>...</td>\n",
       "      <td>...</td>\n",
       "      <td>...</td>\n",
       "      <td>...</td>\n",
       "      <td>...</td>\n",
       "      <td>...</td>\n",
       "      <td>...</td>\n",
       "      <td>...</td>\n",
       "      <td>...</td>\n",
       "      <td>...</td>\n",
       "      <td>...</td>\n",
       "      <td>...</td>\n",
       "      <td>...</td>\n",
       "      <td>...</td>\n",
       "      <td>...</td>\n",
       "    </tr>\n",
       "    <tr>\n",
       "      <th>9129</th>\n",
       "      <td>0</td>\n",
       "      <td>0</td>\n",
       "      <td>2</td>\n",
       "      <td>0</td>\n",
       "      <td>2</td>\n",
       "      <td>1</td>\n",
       "      <td>0.0</td>\n",
       "      <td>0.0</td>\n",
       "      <td>0.0</td>\n",
       "      <td>0.0</td>\n",
       "      <td>...</td>\n",
       "      <td>0.0</td>\n",
       "      <td>0.0</td>\n",
       "      <td>0.0</td>\n",
       "      <td>0.0</td>\n",
       "      <td>1.0</td>\n",
       "      <td>1.0</td>\n",
       "      <td>0.0</td>\n",
       "      <td>0.0</td>\n",
       "      <td>0.0</td>\n",
       "      <td>0.0</td>\n",
       "    </tr>\n",
       "    <tr>\n",
       "      <th>9130</th>\n",
       "      <td>1</td>\n",
       "      <td>1</td>\n",
       "      <td>1</td>\n",
       "      <td>1</td>\n",
       "      <td>1</td>\n",
       "      <td>1</td>\n",
       "      <td>0.0</td>\n",
       "      <td>0.0</td>\n",
       "      <td>0.0</td>\n",
       "      <td>0.0</td>\n",
       "      <td>...</td>\n",
       "      <td>0.0</td>\n",
       "      <td>0.0</td>\n",
       "      <td>1.0</td>\n",
       "      <td>0.0</td>\n",
       "      <td>0.0</td>\n",
       "      <td>1.0</td>\n",
       "      <td>0.0</td>\n",
       "      <td>0.0</td>\n",
       "      <td>0.0</td>\n",
       "      <td>0.0</td>\n",
       "    </tr>\n",
       "    <tr>\n",
       "      <th>9131</th>\n",
       "      <td>0</td>\n",
       "      <td>1</td>\n",
       "      <td>2</td>\n",
       "      <td>0</td>\n",
       "      <td>1</td>\n",
       "      <td>1</td>\n",
       "      <td>0.0</td>\n",
       "      <td>0.0</td>\n",
       "      <td>0.0</td>\n",
       "      <td>0.0</td>\n",
       "      <td>...</td>\n",
       "      <td>0.0</td>\n",
       "      <td>0.0</td>\n",
       "      <td>1.0</td>\n",
       "      <td>0.0</td>\n",
       "      <td>0.0</td>\n",
       "      <td>1.0</td>\n",
       "      <td>0.0</td>\n",
       "      <td>0.0</td>\n",
       "      <td>0.0</td>\n",
       "      <td>0.0</td>\n",
       "    </tr>\n",
       "    <tr>\n",
       "      <th>9132</th>\n",
       "      <td>0</td>\n",
       "      <td>1</td>\n",
       "      <td>1</td>\n",
       "      <td>0</td>\n",
       "      <td>1</td>\n",
       "      <td>2</td>\n",
       "      <td>0.0</td>\n",
       "      <td>0.0</td>\n",
       "      <td>0.0</td>\n",
       "      <td>0.0</td>\n",
       "      <td>...</td>\n",
       "      <td>1.0</td>\n",
       "      <td>0.0</td>\n",
       "      <td>1.0</td>\n",
       "      <td>0.0</td>\n",
       "      <td>0.0</td>\n",
       "      <td>1.0</td>\n",
       "      <td>0.0</td>\n",
       "      <td>0.0</td>\n",
       "      <td>0.0</td>\n",
       "      <td>0.0</td>\n",
       "    </tr>\n",
       "    <tr>\n",
       "      <th>9133</th>\n",
       "      <td>0</td>\n",
       "      <td>1</td>\n",
       "      <td>1</td>\n",
       "      <td>0</td>\n",
       "      <td>1</td>\n",
       "      <td>1</td>\n",
       "      <td>0.0</td>\n",
       "      <td>0.0</td>\n",
       "      <td>0.0</td>\n",
       "      <td>0.0</td>\n",
       "      <td>...</td>\n",
       "      <td>0.0</td>\n",
       "      <td>1.0</td>\n",
       "      <td>0.0</td>\n",
       "      <td>1.0</td>\n",
       "      <td>0.0</td>\n",
       "      <td>0.0</td>\n",
       "      <td>0.0</td>\n",
       "      <td>0.0</td>\n",
       "      <td>0.0</td>\n",
       "      <td>1.0</td>\n",
       "    </tr>\n",
       "  </tbody>\n",
       "</table>\n",
       "<p>9134 rows × 33 columns</p>\n",
       "</div>"
      ],
      "text/plain": [
       "      response  coverage  education  gender  location_code  vehicle_size  \\\n",
       "0            0         0          2       1              1             1   \n",
       "1            0         1          2       1              1             1   \n",
       "2            0         2          2       1              1             1   \n",
       "3            0         0          2       0              1             1   \n",
       "4            0         0          2       0              0             1   \n",
       "...        ...       ...        ...     ...            ...           ...   \n",
       "9129         0         0          2       0              2             1   \n",
       "9130         1         1          1       1              1             1   \n",
       "9131         0         1          2       0              1             1   \n",
       "9132         0         1          1       0              1             2   \n",
       "9133         0         1          1       0              1             1   \n",
       "\n",
       "      (Arizona,)  (Nevada,)  (Oregon,)  (Washington,)  ...  (Offer3,)  \\\n",
       "0            0.0        0.0        0.0            1.0  ...        0.0   \n",
       "1            1.0        0.0        0.0            0.0  ...        1.0   \n",
       "2            0.0        1.0        0.0            0.0  ...        0.0   \n",
       "3            0.0        0.0        0.0            0.0  ...        0.0   \n",
       "4            0.0        0.0        0.0            1.0  ...        0.0   \n",
       "...          ...        ...        ...            ...  ...        ...   \n",
       "9129         0.0        0.0        0.0            0.0  ...        0.0   \n",
       "9130         0.0        0.0        0.0            0.0  ...        0.0   \n",
       "9131         0.0        0.0        0.0            0.0  ...        0.0   \n",
       "9132         0.0        0.0        0.0            0.0  ...        1.0   \n",
       "9133         0.0        0.0        0.0            0.0  ...        0.0   \n",
       "\n",
       "      (Offer4,)  (Branch,)  (Call Center,)  (Web,)  (Four-Door Car,)  \\\n",
       "0           0.0        0.0             0.0     0.0               0.0   \n",
       "1           0.0        0.0             0.0     0.0               1.0   \n",
       "2           0.0        0.0             0.0     0.0               0.0   \n",
       "3           0.0        0.0             1.0     0.0               0.0   \n",
       "4           0.0        0.0             0.0     0.0               1.0   \n",
       "...         ...        ...             ...     ...               ...   \n",
       "9129        0.0        0.0             0.0     1.0               1.0   \n",
       "9130        0.0        1.0             0.0     0.0               1.0   \n",
       "9131        0.0        1.0             0.0     0.0               1.0   \n",
       "9132        0.0        1.0             0.0     0.0               1.0   \n",
       "9133        1.0        0.0             1.0     0.0               0.0   \n",
       "\n",
       "      (Luxury Car,)  (Luxury SUV,)  (Sports Car,)  (Two-Door Car,)  \n",
       "0               0.0            0.0            0.0              1.0  \n",
       "1               0.0            0.0            0.0              0.0  \n",
       "2               0.0            0.0            0.0              1.0  \n",
       "3               0.0            0.0            0.0              0.0  \n",
       "4               0.0            0.0            0.0              0.0  \n",
       "...             ...            ...            ...              ...  \n",
       "9129            0.0            0.0            0.0              0.0  \n",
       "9130            0.0            0.0            0.0              0.0  \n",
       "9131            0.0            0.0            0.0              0.0  \n",
       "9132            0.0            0.0            0.0              0.0  \n",
       "9133            0.0            0.0            0.0              1.0  \n",
       "\n",
       "[9134 rows x 33 columns]"
      ]
     },
     "execution_count": 601,
     "metadata": {},
     "output_type": "execute_result"
    }
   ],
   "source": [
    "cat"
   ]
  },
  {
   "cell_type": "code",
   "execution_count": 602,
   "id": "b64fdba9",
   "metadata": {},
   "outputs": [
    {
     "data": {
      "text/html": [
       "<div>\n",
       "<style scoped>\n",
       "    .dataframe tbody tr th:only-of-type {\n",
       "        vertical-align: middle;\n",
       "    }\n",
       "\n",
       "    .dataframe tbody tr th {\n",
       "        vertical-align: top;\n",
       "    }\n",
       "\n",
       "    .dataframe thead th {\n",
       "        text-align: right;\n",
       "    }\n",
       "</style>\n",
       "<table border=\"1\" class=\"dataframe\">\n",
       "  <thead>\n",
       "    <tr style=\"text-align: right;\">\n",
       "      <th></th>\n",
       "      <th>number_of_open_complaints</th>\n",
       "      <th>number_of_policies</th>\n",
       "    </tr>\n",
       "  </thead>\n",
       "  <tbody>\n",
       "    <tr>\n",
       "      <th>0</th>\n",
       "      <td>0</td>\n",
       "      <td>1</td>\n",
       "    </tr>\n",
       "    <tr>\n",
       "      <th>1</th>\n",
       "      <td>0</td>\n",
       "      <td>8</td>\n",
       "    </tr>\n",
       "    <tr>\n",
       "      <th>2</th>\n",
       "      <td>0</td>\n",
       "      <td>2</td>\n",
       "    </tr>\n",
       "    <tr>\n",
       "      <th>3</th>\n",
       "      <td>0</td>\n",
       "      <td>7</td>\n",
       "    </tr>\n",
       "    <tr>\n",
       "      <th>4</th>\n",
       "      <td>0</td>\n",
       "      <td>1</td>\n",
       "    </tr>\n",
       "    <tr>\n",
       "      <th>...</th>\n",
       "      <td>...</td>\n",
       "      <td>...</td>\n",
       "    </tr>\n",
       "    <tr>\n",
       "      <th>9129</th>\n",
       "      <td>0</td>\n",
       "      <td>2</td>\n",
       "    </tr>\n",
       "    <tr>\n",
       "      <th>9130</th>\n",
       "      <td>0</td>\n",
       "      <td>1</td>\n",
       "    </tr>\n",
       "    <tr>\n",
       "      <th>9131</th>\n",
       "      <td>3</td>\n",
       "      <td>2</td>\n",
       "    </tr>\n",
       "    <tr>\n",
       "      <th>9132</th>\n",
       "      <td>0</td>\n",
       "      <td>3</td>\n",
       "    </tr>\n",
       "    <tr>\n",
       "      <th>9133</th>\n",
       "      <td>0</td>\n",
       "      <td>1</td>\n",
       "    </tr>\n",
       "  </tbody>\n",
       "</table>\n",
       "<p>9134 rows × 2 columns</p>\n",
       "</div>"
      ],
      "text/plain": [
       "      number_of_open_complaints  number_of_policies\n",
       "0                             0                   1\n",
       "1                             0                   8\n",
       "2                             0                   2\n",
       "3                             0                   7\n",
       "4                             0                   1\n",
       "...                         ...                 ...\n",
       "9129                          0                   2\n",
       "9130                          0                   1\n",
       "9131                          3                   2\n",
       "9132                          0                   3\n",
       "9133                          0                   1\n",
       "\n",
       "[9134 rows x 2 columns]"
      ]
     },
     "execution_count": 602,
     "metadata": {},
     "output_type": "execute_result"
    }
   ],
   "source": [
    "dis"
   ]
  },
  {
   "cell_type": "markdown",
   "id": "d9d6d0f7",
   "metadata": {},
   "source": [
    "5. The time variable can be useful. Try to transform its data into a useful one. Hint: Day week and month as integers might be useful."
   ]
  },
  {
   "cell_type": "code",
   "execution_count": 610,
   "id": "5ad67099",
   "metadata": {},
   "outputs": [
    {
     "data": {
      "text/plain": [
       "0       24\n",
       "1       31\n",
       "2       19\n",
       "3       20\n",
       "4        3\n",
       "        ..\n",
       "9129    10\n",
       "9130    12\n",
       "9131     6\n",
       "9132     3\n",
       "9133    14\n",
       "Name: etd_date, Length: 9134, dtype: int64"
      ]
     },
     "execution_count": 610,
     "metadata": {},
     "output_type": "execute_result"
    }
   ],
   "source": [
    "customer_df['etd_date'] = customer_df['effective_to_date'].dt.strftime('%d')\n",
    "customer_df['etd_date'].astype(int)\n"
   ]
  },
  {
   "cell_type": "code",
   "execution_count": 611,
   "id": "a178c640",
   "metadata": {},
   "outputs": [
    {
     "data": {
      "text/plain": [
       "0       2\n",
       "1       1\n",
       "2       2\n",
       "3       1\n",
       "4       2\n",
       "       ..\n",
       "9129    2\n",
       "9130    2\n",
       "9131    2\n",
       "9132    2\n",
       "9133    2\n",
       "Name: etd_month, Length: 9134, dtype: int64"
      ]
     },
     "execution_count": 611,
     "metadata": {},
     "output_type": "execute_result"
    }
   ],
   "source": [
    "customer_df['etd_month'] = customer_df['effective_to_date'].dt.strftime('%m')\n",
    "customer_df['etd_month'].astype(int)"
   ]
  },
  {
   "cell_type": "markdown",
   "id": "a23364f5",
   "metadata": {},
   "source": [
    "6. Since the model will only accept numerical data, check and make sure that every column is numerical, if some are not, change it using encoding."
   ]
  },
  {
   "cell_type": "code",
   "execution_count": 614,
   "id": "fe9df981",
   "metadata": {},
   "outputs": [],
   "source": [
    "X = pd.concat([continuous_df, discrete_df, cat], axis=1)"
   ]
  },
  {
   "cell_type": "code",
   "execution_count": 616,
   "id": "cd1ccbd0",
   "metadata": {},
   "outputs": [],
   "source": [
    "X['etd_month'] = customer_df['etd_month']\n",
    "X['etd_date'] = customer_df['etd_date']"
   ]
  },
  {
   "cell_type": "code",
   "execution_count": 620,
   "id": "0fe4ef04",
   "metadata": {},
   "outputs": [
    {
     "data": {
      "text/plain": [
       "income                           0\n",
       "months_since_last_claim          0\n",
       "months_since_policy_inception    0\n",
       "total_claim_amount               0\n",
       "log_customer_lifetime_value      0\n",
       "log_monthly_premium_auto         0\n",
       "number_of_open_complaints        0\n",
       "number_of_policies               0\n",
       "response                         0\n",
       "coverage                         0\n",
       "education                        0\n",
       "gender                           0\n",
       "location_code                    0\n",
       "vehicle_size                     0\n",
       "(Arizona,)                       0\n",
       "(Nevada,)                        0\n",
       "(Oregon,)                        0\n",
       "(Washington,)                    0\n",
       "(Divorced,)                      0\n",
       "(Single,)                        0\n",
       "(Other,)                         0\n",
       "(Unemployed,)                    0\n",
       "(Corporate L1,)                  0\n",
       "(Corporate L2,)                  0\n",
       "(Corporate L3,)                  0\n",
       "(Personal L1,)                   0\n",
       "(Personal L2,)                   0\n",
       "(Special L1,)                    0\n",
       "(Special L2,)                    0\n",
       "(Special L3,)                    0\n",
       "(Offer2,)                        0\n",
       "(Offer3,)                        0\n",
       "(Offer4,)                        0\n",
       "(Branch,)                        0\n",
       "(Call Center,)                   0\n",
       "(Web,)                           0\n",
       "(Four-Door Car,)                 0\n",
       "(Luxury Car,)                    0\n",
       "(Luxury SUV,)                    0\n",
       "(Sports Car,)                    0\n",
       "(Two-Door Car,)                  0\n",
       "etd_month                        0\n",
       "etd_date                         0\n",
       "dtype: int64"
      ]
     },
     "execution_count": 620,
     "metadata": {},
     "output_type": "execute_result"
    }
   ],
   "source": [
    "X.isnull().sum()"
   ]
  },
  {
   "cell_type": "code",
   "execution_count": 619,
   "id": "335b7c54",
   "metadata": {},
   "outputs": [],
   "source": [
    "#remove rows with NaN (from outliers dropped from continuous features) \n",
    "X = X[~X.income.isnull()]"
   ]
  },
  {
   "cell_type": "code",
   "execution_count": 621,
   "id": "4cfa10da",
   "metadata": {},
   "outputs": [
    {
     "data": {
      "text/html": [
       "<div>\n",
       "<style scoped>\n",
       "    .dataframe tbody tr th:only-of-type {\n",
       "        vertical-align: middle;\n",
       "    }\n",
       "\n",
       "    .dataframe tbody tr th {\n",
       "        vertical-align: top;\n",
       "    }\n",
       "\n",
       "    .dataframe thead th {\n",
       "        text-align: right;\n",
       "    }\n",
       "</style>\n",
       "<table border=\"1\" class=\"dataframe\">\n",
       "  <thead>\n",
       "    <tr style=\"text-align: right;\">\n",
       "      <th></th>\n",
       "      <th>income</th>\n",
       "      <th>months_since_last_claim</th>\n",
       "      <th>months_since_policy_inception</th>\n",
       "      <th>total_claim_amount</th>\n",
       "      <th>log_customer_lifetime_value</th>\n",
       "      <th>log_monthly_premium_auto</th>\n",
       "      <th>number_of_open_complaints</th>\n",
       "      <th>number_of_policies</th>\n",
       "      <th>response</th>\n",
       "      <th>coverage</th>\n",
       "      <th>...</th>\n",
       "      <th>(Branch,)</th>\n",
       "      <th>(Call Center,)</th>\n",
       "      <th>(Web,)</th>\n",
       "      <th>(Four-Door Car,)</th>\n",
       "      <th>(Luxury Car,)</th>\n",
       "      <th>(Luxury SUV,)</th>\n",
       "      <th>(Sports Car,)</th>\n",
       "      <th>(Two-Door Car,)</th>\n",
       "      <th>etd_month</th>\n",
       "      <th>etd_date</th>\n",
       "    </tr>\n",
       "  </thead>\n",
       "  <tbody>\n",
       "    <tr>\n",
       "      <th>0</th>\n",
       "      <td>56274.0</td>\n",
       "      <td>32.0</td>\n",
       "      <td>5.0</td>\n",
       "      <td>384.811147</td>\n",
       "      <td>7.924260</td>\n",
       "      <td>4.234107</td>\n",
       "      <td>0</td>\n",
       "      <td>1</td>\n",
       "      <td>0</td>\n",
       "      <td>0</td>\n",
       "      <td>...</td>\n",
       "      <td>0.0</td>\n",
       "      <td>0.0</td>\n",
       "      <td>0.0</td>\n",
       "      <td>0.0</td>\n",
       "      <td>0.0</td>\n",
       "      <td>0.0</td>\n",
       "      <td>0.0</td>\n",
       "      <td>1.0</td>\n",
       "      <td>02</td>\n",
       "      <td>24</td>\n",
       "    </tr>\n",
       "    <tr>\n",
       "      <th>1</th>\n",
       "      <td>0.0</td>\n",
       "      <td>13.0</td>\n",
       "      <td>42.0</td>\n",
       "      <td>1131.464935</td>\n",
       "      <td>8.850738</td>\n",
       "      <td>4.543295</td>\n",
       "      <td>0</td>\n",
       "      <td>8</td>\n",
       "      <td>0</td>\n",
       "      <td>1</td>\n",
       "      <td>...</td>\n",
       "      <td>0.0</td>\n",
       "      <td>0.0</td>\n",
       "      <td>0.0</td>\n",
       "      <td>1.0</td>\n",
       "      <td>0.0</td>\n",
       "      <td>0.0</td>\n",
       "      <td>0.0</td>\n",
       "      <td>0.0</td>\n",
       "      <td>01</td>\n",
       "      <td>31</td>\n",
       "    </tr>\n",
       "    <tr>\n",
       "      <th>2</th>\n",
       "      <td>48767.0</td>\n",
       "      <td>18.0</td>\n",
       "      <td>38.0</td>\n",
       "      <td>566.472247</td>\n",
       "      <td>9.464008</td>\n",
       "      <td>4.682131</td>\n",
       "      <td>0</td>\n",
       "      <td>2</td>\n",
       "      <td>0</td>\n",
       "      <td>2</td>\n",
       "      <td>...</td>\n",
       "      <td>0.0</td>\n",
       "      <td>0.0</td>\n",
       "      <td>0.0</td>\n",
       "      <td>0.0</td>\n",
       "      <td>0.0</td>\n",
       "      <td>0.0</td>\n",
       "      <td>0.0</td>\n",
       "      <td>1.0</td>\n",
       "      <td>02</td>\n",
       "      <td>19</td>\n",
       "    </tr>\n",
       "    <tr>\n",
       "      <th>3</th>\n",
       "      <td>0.0</td>\n",
       "      <td>18.0</td>\n",
       "      <td>65.0</td>\n",
       "      <td>529.881344</td>\n",
       "      <td>8.941920</td>\n",
       "      <td>4.663439</td>\n",
       "      <td>0</td>\n",
       "      <td>7</td>\n",
       "      <td>0</td>\n",
       "      <td>0</td>\n",
       "      <td>...</td>\n",
       "      <td>0.0</td>\n",
       "      <td>1.0</td>\n",
       "      <td>0.0</td>\n",
       "      <td>0.0</td>\n",
       "      <td>0.0</td>\n",
       "      <td>0.0</td>\n",
       "      <td>0.0</td>\n",
       "      <td>0.0</td>\n",
       "      <td>01</td>\n",
       "      <td>20</td>\n",
       "    </tr>\n",
       "    <tr>\n",
       "      <th>4</th>\n",
       "      <td>43836.0</td>\n",
       "      <td>12.0</td>\n",
       "      <td>44.0</td>\n",
       "      <td>138.130879</td>\n",
       "      <td>7.942253</td>\n",
       "      <td>4.290459</td>\n",
       "      <td>0</td>\n",
       "      <td>1</td>\n",
       "      <td>0</td>\n",
       "      <td>0</td>\n",
       "      <td>...</td>\n",
       "      <td>0.0</td>\n",
       "      <td>0.0</td>\n",
       "      <td>0.0</td>\n",
       "      <td>1.0</td>\n",
       "      <td>0.0</td>\n",
       "      <td>0.0</td>\n",
       "      <td>0.0</td>\n",
       "      <td>0.0</td>\n",
       "      <td>02</td>\n",
       "      <td>03</td>\n",
       "    </tr>\n",
       "    <tr>\n",
       "      <th>...</th>\n",
       "      <td>...</td>\n",
       "      <td>...</td>\n",
       "      <td>...</td>\n",
       "      <td>...</td>\n",
       "      <td>...</td>\n",
       "      <td>...</td>\n",
       "      <td>...</td>\n",
       "      <td>...</td>\n",
       "      <td>...</td>\n",
       "      <td>...</td>\n",
       "      <td>...</td>\n",
       "      <td>...</td>\n",
       "      <td>...</td>\n",
       "      <td>...</td>\n",
       "      <td>...</td>\n",
       "      <td>...</td>\n",
       "      <td>...</td>\n",
       "      <td>...</td>\n",
       "      <td>...</td>\n",
       "      <td>...</td>\n",
       "      <td>...</td>\n",
       "    </tr>\n",
       "    <tr>\n",
       "      <th>9129</th>\n",
       "      <td>71941.0</td>\n",
       "      <td>18.0</td>\n",
       "      <td>89.0</td>\n",
       "      <td>198.234764</td>\n",
       "      <td>10.060747</td>\n",
       "      <td>4.290459</td>\n",
       "      <td>0</td>\n",
       "      <td>2</td>\n",
       "      <td>0</td>\n",
       "      <td>0</td>\n",
       "      <td>...</td>\n",
       "      <td>0.0</td>\n",
       "      <td>0.0</td>\n",
       "      <td>1.0</td>\n",
       "      <td>1.0</td>\n",
       "      <td>0.0</td>\n",
       "      <td>0.0</td>\n",
       "      <td>0.0</td>\n",
       "      <td>0.0</td>\n",
       "      <td>02</td>\n",
       "      <td>10</td>\n",
       "    </tr>\n",
       "    <tr>\n",
       "      <th>9130</th>\n",
       "      <td>21604.0</td>\n",
       "      <td>14.0</td>\n",
       "      <td>28.0</td>\n",
       "      <td>379.200000</td>\n",
       "      <td>8.038031</td>\n",
       "      <td>4.369448</td>\n",
       "      <td>0</td>\n",
       "      <td>1</td>\n",
       "      <td>1</td>\n",
       "      <td>1</td>\n",
       "      <td>...</td>\n",
       "      <td>1.0</td>\n",
       "      <td>0.0</td>\n",
       "      <td>0.0</td>\n",
       "      <td>1.0</td>\n",
       "      <td>0.0</td>\n",
       "      <td>0.0</td>\n",
       "      <td>0.0</td>\n",
       "      <td>0.0</td>\n",
       "      <td>02</td>\n",
       "      <td>12</td>\n",
       "    </tr>\n",
       "    <tr>\n",
       "      <th>9131</th>\n",
       "      <td>0.0</td>\n",
       "      <td>9.0</td>\n",
       "      <td>37.0</td>\n",
       "      <td>790.784983</td>\n",
       "      <td>9.007476</td>\n",
       "      <td>4.442651</td>\n",
       "      <td>3</td>\n",
       "      <td>2</td>\n",
       "      <td>0</td>\n",
       "      <td>1</td>\n",
       "      <td>...</td>\n",
       "      <td>1.0</td>\n",
       "      <td>0.0</td>\n",
       "      <td>0.0</td>\n",
       "      <td>1.0</td>\n",
       "      <td>0.0</td>\n",
       "      <td>0.0</td>\n",
       "      <td>0.0</td>\n",
       "      <td>0.0</td>\n",
       "      <td>02</td>\n",
       "      <td>06</td>\n",
       "    </tr>\n",
       "    <tr>\n",
       "      <th>9132</th>\n",
       "      <td>21941.0</td>\n",
       "      <td>34.0</td>\n",
       "      <td>3.0</td>\n",
       "      <td>691.200000</td>\n",
       "      <td>8.925912</td>\n",
       "      <td>4.564348</td>\n",
       "      <td>0</td>\n",
       "      <td>3</td>\n",
       "      <td>0</td>\n",
       "      <td>1</td>\n",
       "      <td>...</td>\n",
       "      <td>1.0</td>\n",
       "      <td>0.0</td>\n",
       "      <td>0.0</td>\n",
       "      <td>1.0</td>\n",
       "      <td>0.0</td>\n",
       "      <td>0.0</td>\n",
       "      <td>0.0</td>\n",
       "      <td>0.0</td>\n",
       "      <td>02</td>\n",
       "      <td>03</td>\n",
       "    </tr>\n",
       "    <tr>\n",
       "      <th>9133</th>\n",
       "      <td>0.0</td>\n",
       "      <td>3.0</td>\n",
       "      <td>90.0</td>\n",
       "      <td>369.600000</td>\n",
       "      <td>7.867809</td>\n",
       "      <td>4.343805</td>\n",
       "      <td>0</td>\n",
       "      <td>1</td>\n",
       "      <td>0</td>\n",
       "      <td>1</td>\n",
       "      <td>...</td>\n",
       "      <td>0.0</td>\n",
       "      <td>1.0</td>\n",
       "      <td>0.0</td>\n",
       "      <td>0.0</td>\n",
       "      <td>0.0</td>\n",
       "      <td>0.0</td>\n",
       "      <td>0.0</td>\n",
       "      <td>1.0</td>\n",
       "      <td>02</td>\n",
       "      <td>14</td>\n",
       "    </tr>\n",
       "  </tbody>\n",
       "</table>\n",
       "<p>8850 rows × 43 columns</p>\n",
       "</div>"
      ],
      "text/plain": [
       "       income  months_since_last_claim  months_since_policy_inception  \\\n",
       "0     56274.0                     32.0                            5.0   \n",
       "1         0.0                     13.0                           42.0   \n",
       "2     48767.0                     18.0                           38.0   \n",
       "3         0.0                     18.0                           65.0   \n",
       "4     43836.0                     12.0                           44.0   \n",
       "...       ...                      ...                            ...   \n",
       "9129  71941.0                     18.0                           89.0   \n",
       "9130  21604.0                     14.0                           28.0   \n",
       "9131      0.0                      9.0                           37.0   \n",
       "9132  21941.0                     34.0                            3.0   \n",
       "9133      0.0                      3.0                           90.0   \n",
       "\n",
       "      total_claim_amount  log_customer_lifetime_value  \\\n",
       "0             384.811147                     7.924260   \n",
       "1            1131.464935                     8.850738   \n",
       "2             566.472247                     9.464008   \n",
       "3             529.881344                     8.941920   \n",
       "4             138.130879                     7.942253   \n",
       "...                  ...                          ...   \n",
       "9129          198.234764                    10.060747   \n",
       "9130          379.200000                     8.038031   \n",
       "9131          790.784983                     9.007476   \n",
       "9132          691.200000                     8.925912   \n",
       "9133          369.600000                     7.867809   \n",
       "\n",
       "      log_monthly_premium_auto  number_of_open_complaints  number_of_policies  \\\n",
       "0                     4.234107                          0                   1   \n",
       "1                     4.543295                          0                   8   \n",
       "2                     4.682131                          0                   2   \n",
       "3                     4.663439                          0                   7   \n",
       "4                     4.290459                          0                   1   \n",
       "...                        ...                        ...                 ...   \n",
       "9129                  4.290459                          0                   2   \n",
       "9130                  4.369448                          0                   1   \n",
       "9131                  4.442651                          3                   2   \n",
       "9132                  4.564348                          0                   3   \n",
       "9133                  4.343805                          0                   1   \n",
       "\n",
       "      response  coverage  ...  (Branch,)  (Call Center,)  (Web,)  \\\n",
       "0            0         0  ...        0.0             0.0     0.0   \n",
       "1            0         1  ...        0.0             0.0     0.0   \n",
       "2            0         2  ...        0.0             0.0     0.0   \n",
       "3            0         0  ...        0.0             1.0     0.0   \n",
       "4            0         0  ...        0.0             0.0     0.0   \n",
       "...        ...       ...  ...        ...             ...     ...   \n",
       "9129         0         0  ...        0.0             0.0     1.0   \n",
       "9130         1         1  ...        1.0             0.0     0.0   \n",
       "9131         0         1  ...        1.0             0.0     0.0   \n",
       "9132         0         1  ...        1.0             0.0     0.0   \n",
       "9133         0         1  ...        0.0             1.0     0.0   \n",
       "\n",
       "      (Four-Door Car,)  (Luxury Car,)  (Luxury SUV,)  (Sports Car,)  \\\n",
       "0                  0.0            0.0            0.0            0.0   \n",
       "1                  1.0            0.0            0.0            0.0   \n",
       "2                  0.0            0.0            0.0            0.0   \n",
       "3                  0.0            0.0            0.0            0.0   \n",
       "4                  1.0            0.0            0.0            0.0   \n",
       "...                ...            ...            ...            ...   \n",
       "9129               1.0            0.0            0.0            0.0   \n",
       "9130               1.0            0.0            0.0            0.0   \n",
       "9131               1.0            0.0            0.0            0.0   \n",
       "9132               1.0            0.0            0.0            0.0   \n",
       "9133               0.0            0.0            0.0            0.0   \n",
       "\n",
       "      (Two-Door Car,)  etd_month  etd_date  \n",
       "0                 1.0         02        24  \n",
       "1                 0.0         01        31  \n",
       "2                 1.0         02        19  \n",
       "3                 0.0         01        20  \n",
       "4                 0.0         02        03  \n",
       "...               ...        ...       ...  \n",
       "9129              0.0         02        10  \n",
       "9130              0.0         02        12  \n",
       "9131              0.0         02        06  \n",
       "9132              0.0         02        03  \n",
       "9133              1.0         02        14  \n",
       "\n",
       "[8850 rows x 43 columns]"
      ]
     },
     "execution_count": 621,
     "metadata": {},
     "output_type": "execute_result"
    }
   ],
   "source": [
    "X"
   ]
  },
  {
   "cell_type": "code",
   "execution_count": null,
   "id": "90f15204",
   "metadata": {},
   "outputs": [],
   "source": []
  }
 ],
 "metadata": {
  "kernelspec": {
   "display_name": "Python 3 (ipykernel)",
   "language": "python",
   "name": "python3"
  },
  "language_info": {
   "codemirror_mode": {
    "name": "ipython",
    "version": 3
   },
   "file_extension": ".py",
   "mimetype": "text/x-python",
   "name": "python",
   "nbconvert_exporter": "python",
   "pygments_lexer": "ipython3",
   "version": "3.9.6"
  }
 },
 "nbformat": 4,
 "nbformat_minor": 5
}
